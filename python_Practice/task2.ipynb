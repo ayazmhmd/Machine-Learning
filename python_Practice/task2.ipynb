{
 "cells": [
  {
   "cell_type": "code",
   "execution_count": 1,
   "id": "39134a7d",
   "metadata": {},
   "outputs": [],
   "source": [
    "books={ #List of books in our Library\n",
    "    'Ist':['CF','Calculus','AP','English','Islamiat'],\n",
    "    '2nd':['CP','DE','Drawing','pak study','Cps','Cs1'],\n",
    "    '3rd':['LA','CV','OOP','DLD','CS2'],\n",
    "    '4th':['DSA','OS','S&s','EC'],\n",
    "    '5th':['DSP','SP','COA','EE','Comm Sys'],\n",
    "    '6th':['MBSD','DSD','DBMS'],\n",
    "    '7th':['DA','Ethics','CC','SE','CS'],\n",
    "}"
   ]
  },
  {
   "cell_type": "code",
   "execution_count": 2,
   "id": "dc327e19",
   "metadata": {},
   "outputs": [],
   "source": [
    "students={'1st':[],\n",
    "          '2nd':[],\n",
    "          '3rd':[],\n",
    "          '4th':[],\n",
    "          '5th':[],\n",
    "          '6th':[],\n",
    "          '7th':[],      \n",
    "   }\n"
   ]
  },
  {
   "cell_type": "code",
   "execution_count": 3,
   "id": "d5f277ef",
   "metadata": {},
   "outputs": [],
   "source": [
    "def student_registration(name,reg,semester,batch):\n",
    "     emptylist=[]\n",
    "    \n",
    "     #to give ID to the next student Id should be unique\n",
    "     for x in students.keys(): #to make it sure for the right semester \n",
    "            #name because we have semester name as we define in dic key\n",
    "        if x==semester:\n",
    "             length=len(students[semester])\n",
    "             detail={\n",
    "                 #student details needed at the time of registration in library\n",
    "                 'id':length,\n",
    "                'name':name,\n",
    "                'reg':reg,\n",
    "                'semester':semester,\n",
    "                'batch':batch,\n",
    "                'borrowed book':[],\n",
    "            }\n",
    "             students[semester].append(detail) #adding new student detail\n",
    "             print('Record added successfully')"
   ]
  },
  {
   "cell_type": "code",
   "execution_count": 4,
   "id": "23cf24a9",
   "metadata": {},
   "outputs": [],
   "source": [
    "def Checkregister(id,semester):\n",
    "    for i in range(0,len(students[semester])):\n",
    "        if(students[semester][i]['id']==id):\n",
    "            return True\n",
    "    return False"
   ]
  },
  {
   "cell_type": "code",
   "execution_count": 16,
   "id": "eb3e5a6f",
   "metadata": {},
   "outputs": [],
   "source": [
    "def remove_registration(id,semester):\n",
    "     val=Checkregister(id,semester) #checking that the student is in the list or not\n",
    "     if val==True:\n",
    "         for x in students.keys(): #to make it sure for the right semester \n",
    "            #name because we have semester name as we define in dic key\n",
    "            if x==semester:\n",
    "                for y in range(0,len(students[semester])):\n",
    "                    if students[semester][y]['id']==id:\n",
    "                        students[semester].remove(students[semester][y]) #deleting a student\n",
    "                        print('Record deleted successfully')\n",
    "     else:\n",
    "         print(\"Wrong detail->Correct it and try again\\n\")"
   ]
  },
  {
   "cell_type": "code",
   "execution_count": 6,
   "id": "82e9bf81",
   "metadata": {},
   "outputs": [],
   "source": [
    "def borrowing(semester,id,bookname): #student borrowing a book by giving his ID and book name, the same as in our library\n",
    "    val=Checkregister(id,semester)\n",
    "    if(val==True):\n",
    "        for i in range(0,len(students[semester])):\n",
    "            if(students[semester][i]['id']==id):\n",
    "                students[semester][i]['borrowed book'].append(bookname)\n",
    "                print(\"Book Borrowed successfully\\n\")\n",
    "    else:\n",
    "        print(\"Wrong detail->Correct it and try again\\n\")"
   ]
  },
  {
   "cell_type": "code",
   "execution_count": 7,
   "id": "6ff54406",
   "metadata": {},
   "outputs": [],
   "source": [
    "def returnbook(semester,id,bookname): #student returning a book by giving his ID and book name, the same as in our library\n",
    "    val=Checkregister(id,semester)\n",
    "    if val==True:\n",
    "        for i in range(0,len(students[semester])):\n",
    "            if(students[semester][i]['id']==id):\n",
    "                students[semester][i]['borrowed book'].remove(bookname)\n",
    "                print(\"Book Returned successfully\\n\")\n",
    "    else:\n",
    "        print(\"Wrong detail->Correct it and try again\\n\")"
   ]
  },
  {
   "cell_type": "code",
   "execution_count": 17,
   "id": "647040a8",
   "metadata": {},
   "outputs": [
    {
     "name": "stdout",
     "output_type": "stream",
     "text": [
      "\t\tLibrary Management System\n",
      "\n",
      "\tEnter 1: to Register your self\n",
      "\n",
      "\tEnter 2: to DeRegister your self\n",
      "\n",
      "\tEnter 3: to Borrow a book\n",
      "\n",
      "\tEnter 4: to return a book\n",
      "\n",
      "2\n",
      "Enter ID0\n",
      "Enter Your Semester\n",
      "7th\n",
      "Record deleted successfully\n",
      "\t\tLibrary Management System\n",
      "\n",
      "\tEnter 1: to Register your self\n",
      "\n",
      "\tEnter 2: to DeRegister your self\n",
      "\n",
      "\tEnter 3: to Borrow a book\n",
      "\n",
      "\tEnter 4: to return a book\n",
      "\n"
     ]
    },
    {
     "ename": "KeyboardInterrupt",
     "evalue": "Interrupted by user",
     "output_type": "error",
     "traceback": [
      "\u001b[1;31m---------------------------------------------------------------------------\u001b[0m",
      "\u001b[1;31mKeyboardInterrupt\u001b[0m                         Traceback (most recent call last)",
      "\u001b[1;32m<ipython-input-17-d313fa413202>\u001b[0m in \u001b[0;36m<module>\u001b[1;34m\u001b[0m\n\u001b[0;32m      5\u001b[0m     \u001b[0mprint\u001b[0m\u001b[1;33m(\u001b[0m\u001b[1;34m\"\\tEnter 3: to Borrow a book\\n\"\u001b[0m\u001b[1;33m)\u001b[0m\u001b[1;33m\u001b[0m\u001b[1;33m\u001b[0m\u001b[0m\n\u001b[0;32m      6\u001b[0m     \u001b[0mprint\u001b[0m\u001b[1;33m(\u001b[0m\u001b[1;34m\"\\tEnter 4: to return a book\\n\"\u001b[0m\u001b[1;33m)\u001b[0m\u001b[1;33m\u001b[0m\u001b[1;33m\u001b[0m\u001b[0m\n\u001b[1;32m----> 7\u001b[1;33m     \u001b[0mi\u001b[0m\u001b[1;33m=\u001b[0m\u001b[0mint\u001b[0m\u001b[1;33m(\u001b[0m\u001b[0minput\u001b[0m\u001b[1;33m(\u001b[0m\u001b[1;33m)\u001b[0m\u001b[1;33m)\u001b[0m\u001b[1;33m\u001b[0m\u001b[1;33m\u001b[0m\u001b[0m\n\u001b[0m\u001b[0;32m      8\u001b[0m     \u001b[1;32mif\u001b[0m\u001b[1;33m(\u001b[0m\u001b[0mi\u001b[0m\u001b[1;33m==\u001b[0m\u001b[1;36m1\u001b[0m\u001b[1;33m)\u001b[0m\u001b[1;33m:\u001b[0m\u001b[1;33m\u001b[0m\u001b[1;33m\u001b[0m\u001b[0m\n\u001b[0;32m      9\u001b[0m          \u001b[0mname\u001b[0m\u001b[1;33m=\u001b[0m\u001b[0minput\u001b[0m\u001b[1;33m(\u001b[0m\u001b[1;34m\"Enter Your Name:\\n\"\u001b[0m\u001b[1;33m)\u001b[0m\u001b[1;33m\u001b[0m\u001b[1;33m\u001b[0m\u001b[0m\n",
      "\u001b[1;32mC:\\ProgramData\\Anaconda3\\lib\\site-packages\\ipykernel\\kernelbase.py\u001b[0m in \u001b[0;36mraw_input\u001b[1;34m(self, prompt)\u001b[0m\n\u001b[0;32m    858\u001b[0m                 \u001b[1;34m\"raw_input was called, but this frontend does not support input requests.\"\u001b[0m\u001b[1;33m\u001b[0m\u001b[1;33m\u001b[0m\u001b[0m\n\u001b[0;32m    859\u001b[0m             )\n\u001b[1;32m--> 860\u001b[1;33m         return self._input_request(str(prompt),\n\u001b[0m\u001b[0;32m    861\u001b[0m             \u001b[0mself\u001b[0m\u001b[1;33m.\u001b[0m\u001b[0m_parent_ident\u001b[0m\u001b[1;33m,\u001b[0m\u001b[1;33m\u001b[0m\u001b[1;33m\u001b[0m\u001b[0m\n\u001b[0;32m    862\u001b[0m             \u001b[0mself\u001b[0m\u001b[1;33m.\u001b[0m\u001b[0m_parent_header\u001b[0m\u001b[1;33m,\u001b[0m\u001b[1;33m\u001b[0m\u001b[1;33m\u001b[0m\u001b[0m\n",
      "\u001b[1;32mC:\\ProgramData\\Anaconda3\\lib\\site-packages\\ipykernel\\kernelbase.py\u001b[0m in \u001b[0;36m_input_request\u001b[1;34m(self, prompt, ident, parent, password)\u001b[0m\n\u001b[0;32m    902\u001b[0m             \u001b[1;32mexcept\u001b[0m \u001b[0mKeyboardInterrupt\u001b[0m\u001b[1;33m:\u001b[0m\u001b[1;33m\u001b[0m\u001b[1;33m\u001b[0m\u001b[0m\n\u001b[0;32m    903\u001b[0m                 \u001b[1;31m# re-raise KeyboardInterrupt, to truncate traceback\u001b[0m\u001b[1;33m\u001b[0m\u001b[1;33m\u001b[0m\u001b[1;33m\u001b[0m\u001b[0m\n\u001b[1;32m--> 904\u001b[1;33m                 \u001b[1;32mraise\u001b[0m \u001b[0mKeyboardInterrupt\u001b[0m\u001b[1;33m(\u001b[0m\u001b[1;34m\"Interrupted by user\"\u001b[0m\u001b[1;33m)\u001b[0m \u001b[1;32mfrom\u001b[0m \u001b[1;32mNone\u001b[0m\u001b[1;33m\u001b[0m\u001b[1;33m\u001b[0m\u001b[0m\n\u001b[0m\u001b[0;32m    905\u001b[0m             \u001b[1;32mexcept\u001b[0m \u001b[0mException\u001b[0m \u001b[1;32mas\u001b[0m \u001b[0me\u001b[0m\u001b[1;33m:\u001b[0m\u001b[1;33m\u001b[0m\u001b[1;33m\u001b[0m\u001b[0m\n\u001b[0;32m    906\u001b[0m                 \u001b[0mself\u001b[0m\u001b[1;33m.\u001b[0m\u001b[0mlog\u001b[0m\u001b[1;33m.\u001b[0m\u001b[0mwarning\u001b[0m\u001b[1;33m(\u001b[0m\u001b[1;34m\"Invalid Message:\"\u001b[0m\u001b[1;33m,\u001b[0m \u001b[0mexc_info\u001b[0m\u001b[1;33m=\u001b[0m\u001b[1;32mTrue\u001b[0m\u001b[1;33m)\u001b[0m\u001b[1;33m\u001b[0m\u001b[1;33m\u001b[0m\u001b[0m\n",
      "\u001b[1;31mKeyboardInterrupt\u001b[0m: Interrupted by user"
     ]
    }
   ],
   "source": [
    "while 1:\n",
    "    print(\"\\t\\tLibrary Management System\\n\")\n",
    "    print(\"\\tEnter 1: to Register your self\\n\")\n",
    "    print(\"\\tEnter 2: to DeRegister your self\\n\")\n",
    "    print(\"\\tEnter 3: to Borrow a book\\n\")\n",
    "    print(\"\\tEnter 4: to return a book\\n\")\n",
    "    i=int(input())\n",
    "    if(i==1):\n",
    "         name=input(\"Enter Your Name:\\n\")\n",
    "         reg=input(\"Enter Your Reg No\\n\")\n",
    "         semester=input(\"Enter Your Semester\\n\")\n",
    "         batch=input(\"Enter Your Batch:\\n\")\n",
    "         student_registration(name,reg,semester,batch)\n",
    "    elif i==2:\n",
    "         id=int(input(\"Enter ID\"))\n",
    "         semester=input(\"Enter Your Semester\\n\")\n",
    "         remove_registration(id,semester)\n",
    "    elif i==3:\n",
    "        id=int(input(\"Enter ID\"))\n",
    "        semester=input(\"Enter Your Semester\\n\")\n",
    "        bookname=input(\"Enter Book Name\")\n",
    "        borrowing(semester,id,bookname)\n",
    "    elif i==4:   \n",
    "        id=int(input(\"Enter ID\"))\n",
    "        semester=input(\"Enter Your Semester\\n\")\n",
    "        bookname=input(\"Enter Book Name\")\n",
    "        returnbook(semester,id,bookname)\n",
    "    else:\n",
    "        Print(\"rong Entry-> Try again\")\n",
    "        \n",
    "\n",
    "    "
   ]
  },
  {
   "cell_type": "code",
   "execution_count": 20,
   "id": "461fa5eb",
   "metadata": {},
   "outputs": [
    {
     "data": {
      "text/plain": [
       "[]"
      ]
     },
     "execution_count": 20,
     "metadata": {},
     "output_type": "execute_result"
    }
   ],
   "source": [
    "students['7th']"
   ]
  }
 ],
 "metadata": {
  "kernelspec": {
   "display_name": "Python 3",
   "language": "python",
   "name": "python3"
  },
  "language_info": {
   "codemirror_mode": {
    "name": "ipython",
    "version": 3
   },
   "file_extension": ".py",
   "mimetype": "text/x-python",
   "name": "python",
   "nbconvert_exporter": "python",
   "pygments_lexer": "ipython3",
   "version": "3.8.8"
  }
 },
 "nbformat": 4,
 "nbformat_minor": 5
}
