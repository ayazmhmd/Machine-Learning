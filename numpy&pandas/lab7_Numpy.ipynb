{
 "cells": [
  {
   "cell_type": "code",
   "execution_count": 1,
   "id": "4e18e369",
   "metadata": {},
   "outputs": [],
   "source": [
    "import numpy as np\n",
    "import pandas as pd"
   ]
  },
  {
   "cell_type": "markdown",
   "id": "973196e1",
   "metadata": {},
   "source": [
    "### creating an array and reshapping it"
   ]
  },
  {
   "cell_type": "code",
   "execution_count": 2,
   "id": "04cb6b56",
   "metadata": {},
   "outputs": [],
   "source": [
    "#create array 1D\n",
    "array=np.arange(64)"
   ]
  },
  {
   "cell_type": "code",
   "execution_count": 3,
   "id": "7e9d0f96",
   "metadata": {},
   "outputs": [
    {
     "data": {
      "text/plain": [
       "array([ 0,  1,  2,  3,  4,  5,  6,  7,  8,  9, 10, 11, 12, 13, 14, 15, 16,\n",
       "       17, 18, 19, 20, 21, 22, 23, 24, 25, 26, 27, 28, 29, 30, 31, 32, 33,\n",
       "       34, 35, 36, 37, 38, 39, 40, 41, 42, 43, 44, 45, 46, 47, 48, 49, 50,\n",
       "       51, 52, 53, 54, 55, 56, 57, 58, 59, 60, 61, 62, 63])"
      ]
     },
     "execution_count": 3,
     "metadata": {},
     "output_type": "execute_result"
    }
   ],
   "source": [
    "array"
   ]
  },
  {
   "cell_type": "code",
   "execution_count": 4,
   "id": "d71e1310",
   "metadata": {},
   "outputs": [],
   "source": [
    "array=array.reshape(4,4,4)"
   ]
  },
  {
   "cell_type": "code",
   "execution_count": 5,
   "id": "4eafa078",
   "metadata": {},
   "outputs": [
    {
     "data": {
      "text/plain": [
       "array([[[ 0,  1,  2,  3],\n",
       "        [ 4,  5,  6,  7],\n",
       "        [ 8,  9, 10, 11],\n",
       "        [12, 13, 14, 15]],\n",
       "\n",
       "       [[16, 17, 18, 19],\n",
       "        [20, 21, 22, 23],\n",
       "        [24, 25, 26, 27],\n",
       "        [28, 29, 30, 31]],\n",
       "\n",
       "       [[32, 33, 34, 35],\n",
       "        [36, 37, 38, 39],\n",
       "        [40, 41, 42, 43],\n",
       "        [44, 45, 46, 47]],\n",
       "\n",
       "       [[48, 49, 50, 51],\n",
       "        [52, 53, 54, 55],\n",
       "        [56, 57, 58, 59],\n",
       "        [60, 61, 62, 63]]])"
      ]
     },
     "execution_count": 5,
     "metadata": {},
     "output_type": "execute_result"
    }
   ],
   "source": [
    "array"
   ]
  },
  {
   "cell_type": "code",
   "execution_count": 10,
   "id": "2ff4f6a5",
   "metadata": {},
   "outputs": [
    {
     "name": "stdout",
     "output_type": "stream",
     "text": [
      "<class 'numpy.ndarray'>\n"
     ]
    }
   ],
   "source": [
    "array=array.astype('float64')\n",
    "print(type(array))"
   ]
  },
  {
   "cell_type": "markdown",
   "id": "e3211978",
   "metadata": {},
   "source": [
    "### Linespace"
   ]
  },
  {
   "cell_type": "code",
   "execution_count": 8,
   "id": "67c653fb",
   "metadata": {},
   "outputs": [],
   "source": [
    "linespace=np.linspace(8,10,28)"
   ]
  },
  {
   "cell_type": "code",
   "execution_count": 9,
   "id": "95d36883",
   "metadata": {},
   "outputs": [
    {
     "data": {
      "text/plain": [
       "array([ 8.        ,  8.07407407,  8.14814815,  8.22222222,  8.2962963 ,\n",
       "        8.37037037,  8.44444444,  8.51851852,  8.59259259,  8.66666667,\n",
       "        8.74074074,  8.81481481,  8.88888889,  8.96296296,  9.03703704,\n",
       "        9.11111111,  9.18518519,  9.25925926,  9.33333333,  9.40740741,\n",
       "        9.48148148,  9.55555556,  9.62962963,  9.7037037 ,  9.77777778,\n",
       "        9.85185185,  9.92592593, 10.        ])"
      ]
     },
     "execution_count": 9,
     "metadata": {},
     "output_type": "execute_result"
    }
   ],
   "source": [
    "linespace"
   ]
  },
  {
   "cell_type": "markdown",
   "id": "55a82665",
   "metadata": {},
   "source": [
    "### Random array"
   ]
  },
  {
   "cell_type": "code",
   "execution_count": 13,
   "id": "0fad488c",
   "metadata": {},
   "outputs": [],
   "source": [
    "random_arr= np.random.rand(1,100)"
   ]
  },
  {
   "cell_type": "code",
   "execution_count": 14,
   "id": "542a873e",
   "metadata": {},
   "outputs": [
    {
     "data": {
      "text/plain": [
       "array([[0.66946404, 0.45126012, 0.26642934, 0.21522734, 0.467464  ,\n",
       "        0.59708748, 0.7390622 , 0.60415008, 0.60298274, 0.99932872,\n",
       "        0.76608691, 0.96618491, 0.9347499 , 0.04172971, 0.17547567,\n",
       "        0.51477646, 0.32576444, 0.7571657 , 0.95394771, 0.58251892,\n",
       "        0.66051305, 0.72438074, 0.82706762, 0.36851036, 0.2887577 ,\n",
       "        0.61885696, 0.60329301, 0.88065016, 0.81332155, 0.67717876,\n",
       "        0.70258422, 0.69687006, 0.24529718, 0.90851255, 0.70656652,\n",
       "        0.32511531, 0.73894532, 0.2523017 , 0.16654639, 0.77585457,\n",
       "        0.17482955, 0.63731784, 0.25242974, 0.51673236, 0.32165242,\n",
       "        0.85963319, 0.78528459, 0.86869707, 0.57641902, 0.51852803,\n",
       "        0.05546365, 0.42532248, 0.01206669, 0.81478158, 0.59985903,\n",
       "        0.74639753, 0.4507304 , 0.07978575, 0.08933947, 0.40468861,\n",
       "        0.85283203, 0.74660399, 0.8743909 , 0.2204079 , 0.15652559,\n",
       "        0.31388737, 0.76520175, 0.68822309, 0.03327463, 0.09750091,\n",
       "        0.59501475, 0.16690249, 0.51672368, 0.45080977, 0.77252092,\n",
       "        0.14588984, 0.53979272, 0.50863521, 0.17628089, 0.65514641,\n",
       "        0.61486668, 0.5828691 , 0.65111423, 0.16835915, 0.84974632,\n",
       "        0.71455975, 0.56276446, 0.83182352, 0.96482962, 0.13717712,\n",
       "        0.76960545, 0.7244023 , 0.54320528, 0.03059404, 0.81768715,\n",
       "        0.09610461, 0.92316537, 0.42244548, 0.49231294, 0.62809776]])"
      ]
     },
     "execution_count": 14,
     "metadata": {},
     "output_type": "execute_result"
    }
   ],
   "source": [
    "random_arr"
   ]
  },
  {
   "cell_type": "markdown",
   "id": "57e1c412",
   "metadata": {},
   "source": [
    "### working on csv file using numpy"
   ]
  },
  {
   "cell_type": "code",
   "execution_count": 118,
   "id": "a4cd335e",
   "metadata": {},
   "outputs": [],
   "source": [
    "data1=pd.read_csv('weatherAUS.csv')\n",
    "data1.dropna(inplace=True)"
   ]
  },
  {
   "cell_type": "code",
   "execution_count": 119,
   "id": "4291a750",
   "metadata": {},
   "outputs": [
    {
     "data": {
      "text/plain": [
       "6049      20.0\n",
       "6050      19.0\n",
       "6052      15.0\n",
       "6053       6.0\n",
       "6054      13.0\n",
       "          ... \n",
       "142298    20.0\n",
       "142299    11.0\n",
       "142300    11.0\n",
       "142301    17.0\n",
       "142302     7.0\n",
       "Name: WindSpeed3pm, Length: 56420, dtype: float64"
      ]
     },
     "execution_count": 119,
     "metadata": {},
     "output_type": "execute_result"
    }
   ],
   "source": [
    "data1[\"WindSpeed3pm\"]"
   ]
  },
  {
   "cell_type": "code",
   "execution_count": 120,
   "id": "fe80154d",
   "metadata": {},
   "outputs": [
    {
     "data": {
      "text/plain": [
       "6049       6.0\n",
       "6050      19.0\n",
       "6052      30.0\n",
       "6053       6.0\n",
       "6054      17.0\n",
       "          ... \n",
       "142298     9.0\n",
       "142299    13.0\n",
       "142300    17.0\n",
       "142301     9.0\n",
       "142302    15.0\n",
       "Name: WindSpeed9am, Length: 56420, dtype: float64"
      ]
     },
     "execution_count": 120,
     "metadata": {},
     "output_type": "execute_result"
    }
   ],
   "source": [
    "data1[\"WindSpeed9am\"]"
   ]
  },
  {
   "cell_type": "code",
   "execution_count": 121,
   "id": "96a09b44",
   "metadata": {},
   "outputs": [],
   "source": [
    "data1['combined']=data1[\"WindSpeed3pm\"] +data1[\"WindSpeed9am\"]"
   ]
  },
  {
   "cell_type": "code",
   "execution_count": 122,
   "id": "ebb156fd",
   "metadata": {},
   "outputs": [
    {
     "data": {
      "text/html": [
       "<div>\n",
       "<style scoped>\n",
       "    .dataframe tbody tr th:only-of-type {\n",
       "        vertical-align: middle;\n",
       "    }\n",
       "\n",
       "    .dataframe tbody tr th {\n",
       "        vertical-align: top;\n",
       "    }\n",
       "\n",
       "    .dataframe thead th {\n",
       "        text-align: right;\n",
       "    }\n",
       "</style>\n",
       "<table border=\"1\" class=\"dataframe\">\n",
       "  <thead>\n",
       "    <tr style=\"text-align: right;\">\n",
       "      <th></th>\n",
       "      <th>Date</th>\n",
       "      <th>Location</th>\n",
       "      <th>MinTemp</th>\n",
       "      <th>MaxTemp</th>\n",
       "      <th>Rainfall</th>\n",
       "      <th>Evaporation</th>\n",
       "      <th>Sunshine</th>\n",
       "      <th>WindGustDir</th>\n",
       "      <th>WindGustSpeed</th>\n",
       "      <th>WindDir9am</th>\n",
       "      <th>...</th>\n",
       "      <th>Humidity3pm</th>\n",
       "      <th>Pressure9am</th>\n",
       "      <th>Pressure3pm</th>\n",
       "      <th>Cloud9am</th>\n",
       "      <th>Cloud3pm</th>\n",
       "      <th>Temp9am</th>\n",
       "      <th>Temp3pm</th>\n",
       "      <th>RainToday</th>\n",
       "      <th>RainTomorrow</th>\n",
       "      <th>combined</th>\n",
       "    </tr>\n",
       "  </thead>\n",
       "  <tbody>\n",
       "    <tr>\n",
       "      <th>6049</th>\n",
       "      <td>2009-01-01</td>\n",
       "      <td>Cobar</td>\n",
       "      <td>17.9</td>\n",
       "      <td>35.2</td>\n",
       "      <td>0.0</td>\n",
       "      <td>12.0</td>\n",
       "      <td>12.3</td>\n",
       "      <td>SSW</td>\n",
       "      <td>48.0</td>\n",
       "      <td>ENE</td>\n",
       "      <td>...</td>\n",
       "      <td>13.0</td>\n",
       "      <td>1006.3</td>\n",
       "      <td>1004.4</td>\n",
       "      <td>2.0</td>\n",
       "      <td>5.0</td>\n",
       "      <td>26.6</td>\n",
       "      <td>33.4</td>\n",
       "      <td>No</td>\n",
       "      <td>No</td>\n",
       "      <td>26.0</td>\n",
       "    </tr>\n",
       "    <tr>\n",
       "      <th>6050</th>\n",
       "      <td>2009-01-02</td>\n",
       "      <td>Cobar</td>\n",
       "      <td>18.4</td>\n",
       "      <td>28.9</td>\n",
       "      <td>0.0</td>\n",
       "      <td>14.8</td>\n",
       "      <td>13.0</td>\n",
       "      <td>S</td>\n",
       "      <td>37.0</td>\n",
       "      <td>SSE</td>\n",
       "      <td>...</td>\n",
       "      <td>8.0</td>\n",
       "      <td>1012.9</td>\n",
       "      <td>1012.1</td>\n",
       "      <td>1.0</td>\n",
       "      <td>1.0</td>\n",
       "      <td>20.3</td>\n",
       "      <td>27.0</td>\n",
       "      <td>No</td>\n",
       "      <td>No</td>\n",
       "      <td>38.0</td>\n",
       "    </tr>\n",
       "    <tr>\n",
       "      <th>6052</th>\n",
       "      <td>2009-01-04</td>\n",
       "      <td>Cobar</td>\n",
       "      <td>19.4</td>\n",
       "      <td>37.6</td>\n",
       "      <td>0.0</td>\n",
       "      <td>10.8</td>\n",
       "      <td>10.6</td>\n",
       "      <td>NNE</td>\n",
       "      <td>46.0</td>\n",
       "      <td>NNE</td>\n",
       "      <td>...</td>\n",
       "      <td>22.0</td>\n",
       "      <td>1012.3</td>\n",
       "      <td>1009.2</td>\n",
       "      <td>1.0</td>\n",
       "      <td>6.0</td>\n",
       "      <td>28.7</td>\n",
       "      <td>34.9</td>\n",
       "      <td>No</td>\n",
       "      <td>No</td>\n",
       "      <td>45.0</td>\n",
       "    </tr>\n",
       "    <tr>\n",
       "      <th>6053</th>\n",
       "      <td>2009-01-05</td>\n",
       "      <td>Cobar</td>\n",
       "      <td>21.9</td>\n",
       "      <td>38.4</td>\n",
       "      <td>0.0</td>\n",
       "      <td>11.4</td>\n",
       "      <td>12.2</td>\n",
       "      <td>WNW</td>\n",
       "      <td>31.0</td>\n",
       "      <td>WNW</td>\n",
       "      <td>...</td>\n",
       "      <td>22.0</td>\n",
       "      <td>1012.7</td>\n",
       "      <td>1009.1</td>\n",
       "      <td>1.0</td>\n",
       "      <td>5.0</td>\n",
       "      <td>29.1</td>\n",
       "      <td>35.6</td>\n",
       "      <td>No</td>\n",
       "      <td>No</td>\n",
       "      <td>12.0</td>\n",
       "    </tr>\n",
       "    <tr>\n",
       "      <th>6054</th>\n",
       "      <td>2009-01-06</td>\n",
       "      <td>Cobar</td>\n",
       "      <td>24.2</td>\n",
       "      <td>41.0</td>\n",
       "      <td>0.0</td>\n",
       "      <td>11.2</td>\n",
       "      <td>8.4</td>\n",
       "      <td>WNW</td>\n",
       "      <td>35.0</td>\n",
       "      <td>NW</td>\n",
       "      <td>...</td>\n",
       "      <td>15.0</td>\n",
       "      <td>1010.7</td>\n",
       "      <td>1007.4</td>\n",
       "      <td>1.0</td>\n",
       "      <td>6.0</td>\n",
       "      <td>33.6</td>\n",
       "      <td>37.6</td>\n",
       "      <td>No</td>\n",
       "      <td>No</td>\n",
       "      <td>30.0</td>\n",
       "    </tr>\n",
       "    <tr>\n",
       "      <th>...</th>\n",
       "      <td>...</td>\n",
       "      <td>...</td>\n",
       "      <td>...</td>\n",
       "      <td>...</td>\n",
       "      <td>...</td>\n",
       "      <td>...</td>\n",
       "      <td>...</td>\n",
       "      <td>...</td>\n",
       "      <td>...</td>\n",
       "      <td>...</td>\n",
       "      <td>...</td>\n",
       "      <td>...</td>\n",
       "      <td>...</td>\n",
       "      <td>...</td>\n",
       "      <td>...</td>\n",
       "      <td>...</td>\n",
       "      <td>...</td>\n",
       "      <td>...</td>\n",
       "      <td>...</td>\n",
       "      <td>...</td>\n",
       "      <td>...</td>\n",
       "    </tr>\n",
       "    <tr>\n",
       "      <th>142298</th>\n",
       "      <td>2017-06-20</td>\n",
       "      <td>Darwin</td>\n",
       "      <td>19.3</td>\n",
       "      <td>33.4</td>\n",
       "      <td>0.0</td>\n",
       "      <td>6.0</td>\n",
       "      <td>11.0</td>\n",
       "      <td>ENE</td>\n",
       "      <td>35.0</td>\n",
       "      <td>SE</td>\n",
       "      <td>...</td>\n",
       "      <td>32.0</td>\n",
       "      <td>1013.9</td>\n",
       "      <td>1010.5</td>\n",
       "      <td>0.0</td>\n",
       "      <td>1.0</td>\n",
       "      <td>24.5</td>\n",
       "      <td>32.3</td>\n",
       "      <td>No</td>\n",
       "      <td>No</td>\n",
       "      <td>29.0</td>\n",
       "    </tr>\n",
       "    <tr>\n",
       "      <th>142299</th>\n",
       "      <td>2017-06-21</td>\n",
       "      <td>Darwin</td>\n",
       "      <td>21.2</td>\n",
       "      <td>32.6</td>\n",
       "      <td>0.0</td>\n",
       "      <td>7.6</td>\n",
       "      <td>8.6</td>\n",
       "      <td>E</td>\n",
       "      <td>37.0</td>\n",
       "      <td>SE</td>\n",
       "      <td>...</td>\n",
       "      <td>28.0</td>\n",
       "      <td>1014.6</td>\n",
       "      <td>1011.2</td>\n",
       "      <td>7.0</td>\n",
       "      <td>0.0</td>\n",
       "      <td>24.8</td>\n",
       "      <td>32.0</td>\n",
       "      <td>No</td>\n",
       "      <td>No</td>\n",
       "      <td>24.0</td>\n",
       "    </tr>\n",
       "    <tr>\n",
       "      <th>142300</th>\n",
       "      <td>2017-06-22</td>\n",
       "      <td>Darwin</td>\n",
       "      <td>20.7</td>\n",
       "      <td>32.8</td>\n",
       "      <td>0.0</td>\n",
       "      <td>5.6</td>\n",
       "      <td>11.0</td>\n",
       "      <td>E</td>\n",
       "      <td>33.0</td>\n",
       "      <td>E</td>\n",
       "      <td>...</td>\n",
       "      <td>23.0</td>\n",
       "      <td>1015.3</td>\n",
       "      <td>1011.8</td>\n",
       "      <td>0.0</td>\n",
       "      <td>0.0</td>\n",
       "      <td>24.8</td>\n",
       "      <td>32.1</td>\n",
       "      <td>No</td>\n",
       "      <td>No</td>\n",
       "      <td>28.0</td>\n",
       "    </tr>\n",
       "    <tr>\n",
       "      <th>142301</th>\n",
       "      <td>2017-06-23</td>\n",
       "      <td>Darwin</td>\n",
       "      <td>19.5</td>\n",
       "      <td>31.8</td>\n",
       "      <td>0.0</td>\n",
       "      <td>6.2</td>\n",
       "      <td>10.6</td>\n",
       "      <td>ESE</td>\n",
       "      <td>26.0</td>\n",
       "      <td>SE</td>\n",
       "      <td>...</td>\n",
       "      <td>58.0</td>\n",
       "      <td>1014.9</td>\n",
       "      <td>1010.7</td>\n",
       "      <td>1.0</td>\n",
       "      <td>1.0</td>\n",
       "      <td>24.8</td>\n",
       "      <td>29.2</td>\n",
       "      <td>No</td>\n",
       "      <td>No</td>\n",
       "      <td>26.0</td>\n",
       "    </tr>\n",
       "    <tr>\n",
       "      <th>142302</th>\n",
       "      <td>2017-06-24</td>\n",
       "      <td>Darwin</td>\n",
       "      <td>20.2</td>\n",
       "      <td>31.7</td>\n",
       "      <td>0.0</td>\n",
       "      <td>5.6</td>\n",
       "      <td>10.7</td>\n",
       "      <td>ENE</td>\n",
       "      <td>30.0</td>\n",
       "      <td>ENE</td>\n",
       "      <td>...</td>\n",
       "      <td>32.0</td>\n",
       "      <td>1013.9</td>\n",
       "      <td>1009.7</td>\n",
       "      <td>6.0</td>\n",
       "      <td>5.0</td>\n",
       "      <td>25.4</td>\n",
       "      <td>31.0</td>\n",
       "      <td>No</td>\n",
       "      <td>No</td>\n",
       "      <td>22.0</td>\n",
       "    </tr>\n",
       "  </tbody>\n",
       "</table>\n",
       "<p>56420 rows × 24 columns</p>\n",
       "</div>"
      ],
      "text/plain": [
       "              Date Location  MinTemp  MaxTemp  Rainfall  Evaporation  \\\n",
       "6049    2009-01-01    Cobar     17.9     35.2       0.0         12.0   \n",
       "6050    2009-01-02    Cobar     18.4     28.9       0.0         14.8   \n",
       "6052    2009-01-04    Cobar     19.4     37.6       0.0         10.8   \n",
       "6053    2009-01-05    Cobar     21.9     38.4       0.0         11.4   \n",
       "6054    2009-01-06    Cobar     24.2     41.0       0.0         11.2   \n",
       "...            ...      ...      ...      ...       ...          ...   \n",
       "142298  2017-06-20   Darwin     19.3     33.4       0.0          6.0   \n",
       "142299  2017-06-21   Darwin     21.2     32.6       0.0          7.6   \n",
       "142300  2017-06-22   Darwin     20.7     32.8       0.0          5.6   \n",
       "142301  2017-06-23   Darwin     19.5     31.8       0.0          6.2   \n",
       "142302  2017-06-24   Darwin     20.2     31.7       0.0          5.6   \n",
       "\n",
       "        Sunshine WindGustDir  WindGustSpeed WindDir9am  ... Humidity3pm  \\\n",
       "6049        12.3         SSW           48.0        ENE  ...        13.0   \n",
       "6050        13.0           S           37.0        SSE  ...         8.0   \n",
       "6052        10.6         NNE           46.0        NNE  ...        22.0   \n",
       "6053        12.2         WNW           31.0        WNW  ...        22.0   \n",
       "6054         8.4         WNW           35.0         NW  ...        15.0   \n",
       "...          ...         ...            ...        ...  ...         ...   \n",
       "142298      11.0         ENE           35.0         SE  ...        32.0   \n",
       "142299       8.6           E           37.0         SE  ...        28.0   \n",
       "142300      11.0           E           33.0          E  ...        23.0   \n",
       "142301      10.6         ESE           26.0         SE  ...        58.0   \n",
       "142302      10.7         ENE           30.0        ENE  ...        32.0   \n",
       "\n",
       "        Pressure9am  Pressure3pm  Cloud9am  Cloud3pm  Temp9am  Temp3pm  \\\n",
       "6049         1006.3       1004.4       2.0       5.0     26.6     33.4   \n",
       "6050         1012.9       1012.1       1.0       1.0     20.3     27.0   \n",
       "6052         1012.3       1009.2       1.0       6.0     28.7     34.9   \n",
       "6053         1012.7       1009.1       1.0       5.0     29.1     35.6   \n",
       "6054         1010.7       1007.4       1.0       6.0     33.6     37.6   \n",
       "...             ...          ...       ...       ...      ...      ...   \n",
       "142298       1013.9       1010.5       0.0       1.0     24.5     32.3   \n",
       "142299       1014.6       1011.2       7.0       0.0     24.8     32.0   \n",
       "142300       1015.3       1011.8       0.0       0.0     24.8     32.1   \n",
       "142301       1014.9       1010.7       1.0       1.0     24.8     29.2   \n",
       "142302       1013.9       1009.7       6.0       5.0     25.4     31.0   \n",
       "\n",
       "        RainToday  RainTomorrow  combined  \n",
       "6049           No            No      26.0  \n",
       "6050           No            No      38.0  \n",
       "6052           No            No      45.0  \n",
       "6053           No            No      12.0  \n",
       "6054           No            No      30.0  \n",
       "...           ...           ...       ...  \n",
       "142298         No            No      29.0  \n",
       "142299         No            No      24.0  \n",
       "142300         No            No      28.0  \n",
       "142301         No            No      26.0  \n",
       "142302         No            No      22.0  \n",
       "\n",
       "[56420 rows x 24 columns]"
      ]
     },
     "execution_count": 122,
     "metadata": {},
     "output_type": "execute_result"
    }
   ],
   "source": [
    "data1"
   ]
  },
  {
   "cell_type": "code",
   "execution_count": 123,
   "id": "f77ed51c",
   "metadata": {},
   "outputs": [],
   "source": [
    "data1=data1[data1.duplicated(subset=['WindSpeed3pm','WindSpeed9am'], keep=\"first\")]"
   ]
  },
  {
   "cell_type": "code",
   "execution_count": 125,
   "id": "3b28e0ff",
   "metadata": {},
   "outputs": [
    {
     "data": {
      "text/plain": [
       "Int64Index([  6064,   6083,   6091,   6095,   6096,   6102,   6105,   6107,\n",
       "              6111,   6113,\n",
       "            ...\n",
       "            142293, 142294, 142295, 142296, 142297, 142298, 142299, 142300,\n",
       "            142301, 142302],\n",
       "           dtype='int64', length=55649)"
      ]
     },
     "execution_count": 125,
     "metadata": {},
     "output_type": "execute_result"
    }
   ],
   "source": [
    "data1.index"
   ]
  },
  {
   "cell_type": "code",
   "execution_count": null,
   "id": "261e0a4a",
   "metadata": {},
   "outputs": [],
   "source": []
  }
 ],
 "metadata": {
  "kernelspec": {
   "display_name": "Python 3",
   "language": "python",
   "name": "python3"
  },
  "language_info": {
   "codemirror_mode": {
    "name": "ipython",
    "version": 3
   },
   "file_extension": ".py",
   "mimetype": "text/x-python",
   "name": "python",
   "nbconvert_exporter": "python",
   "pygments_lexer": "ipython3",
   "version": "3.8.8"
  }
 },
 "nbformat": 4,
 "nbformat_minor": 5
}
