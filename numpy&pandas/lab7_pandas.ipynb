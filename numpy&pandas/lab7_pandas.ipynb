{
 "cells": [
  {
   "cell_type": "code",
   "execution_count": 1,
   "id": "20fb98a5",
   "metadata": {},
   "outputs": [],
   "source": [
    "import pandas as pd\n",
    "import numpy as np"
   ]
  },
  {
   "cell_type": "markdown",
   "id": "0d1c6b68",
   "metadata": {},
   "source": [
    " ### Reading a CSV file"
   ]
  },
  {
   "cell_type": "code",
   "execution_count": 2,
   "id": "0980774b",
   "metadata": {},
   "outputs": [],
   "source": [
    "data=pd.read_csv('weatherAUS.csv')"
   ]
  },
  {
   "cell_type": "code",
   "execution_count": 3,
   "id": "26f89740",
   "metadata": {},
   "outputs": [
    {
     "name": "stdout",
     "output_type": "stream",
     "text": [
      "         Date Location  MinTemp  MaxTemp  Rainfall  Evaporation  Sunshine  \\\n",
      "0  2008-12-01   Albury     13.4     22.9       0.6          NaN       NaN   \n",
      "1  2008-12-02   Albury      7.4     25.1       0.0          NaN       NaN   \n",
      "\n",
      "  WindGustDir  WindGustSpeed WindDir9am  ... Humidity9am  Humidity3pm  \\\n",
      "0           W           44.0          W  ...        71.0         22.0   \n",
      "1         WNW           44.0        NNW  ...        44.0         25.0   \n",
      "\n",
      "   Pressure9am  Pressure3pm  Cloud9am  Cloud3pm  Temp9am  Temp3pm  RainToday  \\\n",
      "0       1007.7       1007.1       8.0       NaN     16.9     21.8         No   \n",
      "1       1010.6       1007.8       NaN       NaN     17.2     24.3         No   \n",
      "\n",
      "   RainTomorrow  \n",
      "0            No  \n",
      "1            No  \n",
      "\n",
      "[2 rows x 23 columns]\n"
     ]
    }
   ],
   "source": [
    "print(data.head(2))"
   ]
  },
  {
   "cell_type": "markdown",
   "id": "e73307a2",
   "metadata": {},
   "source": [
    "### dropping a column"
   ]
  },
  {
   "cell_type": "code",
   "execution_count": 4,
   "id": "39256e1a",
   "metadata": {},
   "outputs": [],
   "source": [
    "data.drop('Sunshine', inplace=True, axis=1)"
   ]
  },
  {
   "cell_type": "code",
   "execution_count": 5,
   "id": "1e389841",
   "metadata": {},
   "outputs": [
    {
     "name": "stdout",
     "output_type": "stream",
     "text": [
      "         Date Location  MinTemp  MaxTemp  Rainfall  Evaporation WindGustDir  \\\n",
      "0  2008-12-01   Albury     13.4     22.9       0.6          NaN           W   \n",
      "1  2008-12-02   Albury      7.4     25.1       0.0          NaN         WNW   \n",
      "\n",
      "   WindGustSpeed WindDir9am WindDir3pm  ...  Humidity9am  Humidity3pm  \\\n",
      "0           44.0          W        WNW  ...         71.0         22.0   \n",
      "1           44.0        NNW        WSW  ...         44.0         25.0   \n",
      "\n",
      "   Pressure9am  Pressure3pm  Cloud9am  Cloud3pm  Temp9am  Temp3pm  RainToday  \\\n",
      "0       1007.7       1007.1       8.0       NaN     16.9     21.8         No   \n",
      "1       1010.6       1007.8       NaN       NaN     17.2     24.3         No   \n",
      "\n",
      "   RainTomorrow  \n",
      "0            No  \n",
      "1            No  \n",
      "\n",
      "[2 rows x 22 columns]\n"
     ]
    }
   ],
   "source": [
    "print(data.head(2))"
   ]
  },
  {
   "cell_type": "markdown",
   "id": "e8e3d312",
   "metadata": {},
   "source": [
    "### concatenate two column"
   ]
  },
  {
   "cell_type": "code",
   "execution_count": 6,
   "id": "ac4577ae",
   "metadata": {},
   "outputs": [],
   "source": [
    "data['Date_Location'] = data.Date + ' ' + data.Location"
   ]
  },
  {
   "cell_type": "code",
   "execution_count": 7,
   "id": "7e1bff88",
   "metadata": {},
   "outputs": [
    {
     "name": "stdout",
     "output_type": "stream",
     "text": [
      "         Date Location  MinTemp  MaxTemp  Rainfall  Evaporation WindGustDir  \\\n",
      "0  2008-12-01   Albury     13.4     22.9       0.6          NaN           W   \n",
      "1  2008-12-02   Albury      7.4     25.1       0.0          NaN         WNW   \n",
      "\n",
      "   WindGustSpeed WindDir9am WindDir3pm  ...  Humidity3pm  Pressure9am  \\\n",
      "0           44.0          W        WNW  ...         22.0       1007.7   \n",
      "1           44.0        NNW        WSW  ...         25.0       1010.6   \n",
      "\n",
      "   Pressure3pm  Cloud9am  Cloud3pm  Temp9am  Temp3pm  RainToday  RainTomorrow  \\\n",
      "0       1007.1       8.0       NaN     16.9     21.8         No            No   \n",
      "1       1007.8       NaN       NaN     17.2     24.3         No            No   \n",
      "\n",
      "       Date_Location  \n",
      "0  2008-12-01 Albury  \n",
      "1  2008-12-02 Albury  \n",
      "\n",
      "[2 rows x 23 columns]\n"
     ]
    }
   ],
   "source": [
    "print(data.head(2))"
   ]
  },
  {
   "cell_type": "markdown",
   "id": "e16e9242",
   "metadata": {},
   "source": [
    "### Dropping NULL values"
   ]
  },
  {
   "cell_type": "code",
   "execution_count": 8,
   "id": "afe2cc51",
   "metadata": {},
   "outputs": [],
   "source": [
    "data.dropna(inplace=True) #inplace shows the change in original dataframe"
   ]
  },
  {
   "cell_type": "code",
   "execution_count": 9,
   "id": "26a4c598",
   "metadata": {},
   "outputs": [
    {
     "name": "stdout",
     "output_type": "stream",
     "text": [
      "            Date Location  MinTemp  MaxTemp  Rainfall  Evaporation  \\\n",
      "6049  2009-01-01    Cobar     17.9     35.2       0.0         12.0   \n",
      "6050  2009-01-02    Cobar     18.4     28.9       0.0         14.8   \n",
      "\n",
      "     WindGustDir  WindGustSpeed WindDir9am WindDir3pm  ...  Humidity3pm  \\\n",
      "6049         SSW           48.0        ENE         SW  ...         13.0   \n",
      "6050           S           37.0        SSE        SSE  ...          8.0   \n",
      "\n",
      "      Pressure9am  Pressure3pm  Cloud9am  Cloud3pm  Temp9am  Temp3pm  \\\n",
      "6049       1006.3       1004.4       2.0       5.0     26.6     33.4   \n",
      "6050       1012.9       1012.1       1.0       1.0     20.3     27.0   \n",
      "\n",
      "      RainToday  RainTomorrow     Date_Location  \n",
      "6049         No            No  2009-01-01 Cobar  \n",
      "6050         No            No  2009-01-02 Cobar  \n",
      "\n",
      "[2 rows x 23 columns]\n"
     ]
    }
   ],
   "source": [
    "print(data.head(2))"
   ]
  },
  {
   "cell_type": "markdown",
   "id": "dd08b275",
   "metadata": {},
   "source": [
    "### changing a column name"
   ]
  },
  {
   "cell_type": "code",
   "execution_count": 10,
   "id": "744a18df",
   "metadata": {},
   "outputs": [],
   "source": [
    "data = data.rename(columns={'Rainfall': 'barish'})"
   ]
  },
  {
   "cell_type": "code",
   "execution_count": 11,
   "id": "9e1791f5",
   "metadata": {},
   "outputs": [
    {
     "name": "stdout",
     "output_type": "stream",
     "text": [
      "            Date Location  MinTemp  MaxTemp  barish  Evaporation WindGustDir  \\\n",
      "6049  2009-01-01    Cobar     17.9     35.2     0.0         12.0         SSW   \n",
      "6050  2009-01-02    Cobar     18.4     28.9     0.0         14.8           S   \n",
      "\n",
      "      WindGustSpeed WindDir9am WindDir3pm  ...  Humidity3pm  Pressure9am  \\\n",
      "6049           48.0        ENE         SW  ...         13.0       1006.3   \n",
      "6050           37.0        SSE        SSE  ...          8.0       1012.9   \n",
      "\n",
      "      Pressure3pm  Cloud9am  Cloud3pm  Temp9am  Temp3pm  RainToday  \\\n",
      "6049       1004.4       2.0       5.0     26.6     33.4         No   \n",
      "6050       1012.1       1.0       1.0     20.3     27.0         No   \n",
      "\n",
      "      RainTomorrow     Date_Location  \n",
      "6049            No  2009-01-01 Cobar  \n",
      "6050            No  2009-01-02 Cobar  \n",
      "\n",
      "[2 rows x 23 columns]\n"
     ]
    }
   ],
   "source": [
    "print(data.head(2))"
   ]
  },
  {
   "cell_type": "markdown",
   "id": "44e3c00d",
   "metadata": {},
   "source": [
    "### creating dataframe having location and Average Minimum and Average Maximum temperatures"
   ]
  },
  {
   "cell_type": "code",
   "execution_count": 12,
   "id": "9ba67fed",
   "metadata": {},
   "outputs": [],
   "source": [
    "data_1 = pd.DataFrame({\"loc\":data['Location'],\n",
    "                      \"min\":data['MinTemp'],\n",
    "                      \"max\":data['MaxTemp']\n",
    "                      })\n"
   ]
  },
  {
   "cell_type": "code",
   "execution_count": 13,
   "id": "2ad19257",
   "metadata": {},
   "outputs": [
    {
     "data": {
      "text/html": [
       "<div>\n",
       "<style scoped>\n",
       "    .dataframe tbody tr th:only-of-type {\n",
       "        vertical-align: middle;\n",
       "    }\n",
       "\n",
       "    .dataframe tbody tr th {\n",
       "        vertical-align: top;\n",
       "    }\n",
       "\n",
       "    .dataframe thead th {\n",
       "        text-align: right;\n",
       "    }\n",
       "</style>\n",
       "<table border=\"1\" class=\"dataframe\">\n",
       "  <thead>\n",
       "    <tr style=\"text-align: right;\">\n",
       "      <th></th>\n",
       "      <th>loc</th>\n",
       "      <th>min</th>\n",
       "      <th>max</th>\n",
       "    </tr>\n",
       "  </thead>\n",
       "  <tbody>\n",
       "    <tr>\n",
       "      <th>6049</th>\n",
       "      <td>Cobar</td>\n",
       "      <td>17.9</td>\n",
       "      <td>35.2</td>\n",
       "    </tr>\n",
       "    <tr>\n",
       "      <th>6050</th>\n",
       "      <td>Cobar</td>\n",
       "      <td>18.4</td>\n",
       "      <td>28.9</td>\n",
       "    </tr>\n",
       "    <tr>\n",
       "      <th>6052</th>\n",
       "      <td>Cobar</td>\n",
       "      <td>19.4</td>\n",
       "      <td>37.6</td>\n",
       "    </tr>\n",
       "    <tr>\n",
       "      <th>6053</th>\n",
       "      <td>Cobar</td>\n",
       "      <td>21.9</td>\n",
       "      <td>38.4</td>\n",
       "    </tr>\n",
       "    <tr>\n",
       "      <th>6054</th>\n",
       "      <td>Cobar</td>\n",
       "      <td>24.2</td>\n",
       "      <td>41.0</td>\n",
       "    </tr>\n",
       "    <tr>\n",
       "      <th>...</th>\n",
       "      <td>...</td>\n",
       "      <td>...</td>\n",
       "      <td>...</td>\n",
       "    </tr>\n",
       "    <tr>\n",
       "      <th>143181</th>\n",
       "      <td>Katherine</td>\n",
       "      <td>18.2</td>\n",
       "      <td>35.5</td>\n",
       "    </tr>\n",
       "    <tr>\n",
       "      <th>143182</th>\n",
       "      <td>Katherine</td>\n",
       "      <td>22.6</td>\n",
       "      <td>33.6</td>\n",
       "    </tr>\n",
       "    <tr>\n",
       "      <th>143183</th>\n",
       "      <td>Katherine</td>\n",
       "      <td>17.4</td>\n",
       "      <td>30.7</td>\n",
       "    </tr>\n",
       "    <tr>\n",
       "      <th>143185</th>\n",
       "      <td>Katherine</td>\n",
       "      <td>13.3</td>\n",
       "      <td>32.0</td>\n",
       "    </tr>\n",
       "    <tr>\n",
       "      <th>143186</th>\n",
       "      <td>Katherine</td>\n",
       "      <td>13.0</td>\n",
       "      <td>32.0</td>\n",
       "    </tr>\n",
       "  </tbody>\n",
       "</table>\n",
       "<p>61981 rows × 3 columns</p>\n",
       "</div>"
      ],
      "text/plain": [
       "              loc   min   max\n",
       "6049        Cobar  17.9  35.2\n",
       "6050        Cobar  18.4  28.9\n",
       "6052        Cobar  19.4  37.6\n",
       "6053        Cobar  21.9  38.4\n",
       "6054        Cobar  24.2  41.0\n",
       "...           ...   ...   ...\n",
       "143181  Katherine  18.2  35.5\n",
       "143182  Katherine  22.6  33.6\n",
       "143183  Katherine  17.4  30.7\n",
       "143185  Katherine  13.3  32.0\n",
       "143186  Katherine  13.0  32.0\n",
       "\n",
       "[61981 rows x 3 columns]"
      ]
     },
     "execution_count": 13,
     "metadata": {},
     "output_type": "execute_result"
    }
   ],
   "source": [
    "data_1"
   ]
  },
  {
   "cell_type": "code",
   "execution_count": 14,
   "id": "340607c6",
   "metadata": {},
   "outputs": [
    {
     "data": {
      "text/html": [
       "<div>\n",
       "<style scoped>\n",
       "    .dataframe tbody tr th:only-of-type {\n",
       "        vertical-align: middle;\n",
       "    }\n",
       "\n",
       "    .dataframe tbody tr th {\n",
       "        vertical-align: top;\n",
       "    }\n",
       "\n",
       "    .dataframe thead th {\n",
       "        text-align: right;\n",
       "    }\n",
       "</style>\n",
       "<table border=\"1\" class=\"dataframe\">\n",
       "  <thead>\n",
       "    <tr style=\"text-align: right;\">\n",
       "      <th></th>\n",
       "      <th>min</th>\n",
       "      <th>max</th>\n",
       "    </tr>\n",
       "    <tr>\n",
       "      <th>loc</th>\n",
       "      <th></th>\n",
       "      <th></th>\n",
       "    </tr>\n",
       "  </thead>\n",
       "  <tbody>\n",
       "    <tr>\n",
       "      <th>AliceSprings</th>\n",
       "      <td>13.949508</td>\n",
       "      <td>29.648652</td>\n",
       "    </tr>\n",
       "    <tr>\n",
       "      <th>Bendigo</th>\n",
       "      <td>9.004450</td>\n",
       "      <td>21.351545</td>\n",
       "    </tr>\n",
       "    <tr>\n",
       "      <th>Brisbane</th>\n",
       "      <td>16.402767</td>\n",
       "      <td>26.466733</td>\n",
       "    </tr>\n",
       "    <tr>\n",
       "      <th>Cairns</th>\n",
       "      <td>21.133826</td>\n",
       "      <td>29.518690</td>\n",
       "    </tr>\n",
       "    <tr>\n",
       "      <th>Canberra</th>\n",
       "      <td>7.739276</td>\n",
       "      <td>20.371403</td>\n",
       "    </tr>\n",
       "    <tr>\n",
       "      <th>Cobar</th>\n",
       "      <td>13.155417</td>\n",
       "      <td>25.714819</td>\n",
       "    </tr>\n",
       "    <tr>\n",
       "      <th>CoffsHarbour</th>\n",
       "      <td>14.505263</td>\n",
       "      <td>23.865610</td>\n",
       "    </tr>\n",
       "    <tr>\n",
       "      <th>Darwin</th>\n",
       "      <td>23.166895</td>\n",
       "      <td>32.558080</td>\n",
       "    </tr>\n",
       "    <tr>\n",
       "      <th>Hobart</th>\n",
       "      <td>8.952410</td>\n",
       "      <td>17.766308</td>\n",
       "    </tr>\n",
       "    <tr>\n",
       "      <th>Katherine</th>\n",
       "      <td>20.513957</td>\n",
       "      <td>35.031595</td>\n",
       "    </tr>\n",
       "    <tr>\n",
       "      <th>Melbourne</th>\n",
       "      <td>11.673249</td>\n",
       "      <td>20.590258</td>\n",
       "    </tr>\n",
       "    <tr>\n",
       "      <th>MelbourneAirport</th>\n",
       "      <td>9.958840</td>\n",
       "      <td>20.494437</td>\n",
       "    </tr>\n",
       "    <tr>\n",
       "      <th>Mildura</th>\n",
       "      <td>10.883015</td>\n",
       "      <td>24.899625</td>\n",
       "    </tr>\n",
       "    <tr>\n",
       "      <th>Moree</th>\n",
       "      <td>12.833691</td>\n",
       "      <td>26.868357</td>\n",
       "    </tr>\n",
       "    <tr>\n",
       "      <th>MountGambier</th>\n",
       "      <td>8.940822</td>\n",
       "      <td>19.991181</td>\n",
       "    </tr>\n",
       "    <tr>\n",
       "      <th>NorfolkIsland</th>\n",
       "      <td>16.856120</td>\n",
       "      <td>21.792005</td>\n",
       "    </tr>\n",
       "    <tr>\n",
       "      <th>Nuriootpa</th>\n",
       "      <td>9.699902</td>\n",
       "      <td>22.031854</td>\n",
       "    </tr>\n",
       "    <tr>\n",
       "      <th>Perth</th>\n",
       "      <td>13.071056</td>\n",
       "      <td>25.187822</td>\n",
       "    </tr>\n",
       "    <tr>\n",
       "      <th>PerthAirport</th>\n",
       "      <td>12.682276</td>\n",
       "      <td>25.603291</td>\n",
       "    </tr>\n",
       "    <tr>\n",
       "      <th>Portland</th>\n",
       "      <td>9.646951</td>\n",
       "      <td>17.210831</td>\n",
       "    </tr>\n",
       "    <tr>\n",
       "      <th>Richmond</th>\n",
       "      <td>14.942282</td>\n",
       "      <td>23.940268</td>\n",
       "    </tr>\n",
       "    <tr>\n",
       "      <th>Sale</th>\n",
       "      <td>8.597770</td>\n",
       "      <td>20.416080</td>\n",
       "    </tr>\n",
       "    <tr>\n",
       "      <th>Sydney</th>\n",
       "      <td>15.027412</td>\n",
       "      <td>23.454882</td>\n",
       "    </tr>\n",
       "    <tr>\n",
       "      <th>SydneyAirport</th>\n",
       "      <td>14.890676</td>\n",
       "      <td>23.422981</td>\n",
       "    </tr>\n",
       "    <tr>\n",
       "      <th>Townsville</th>\n",
       "      <td>20.551959</td>\n",
       "      <td>29.408706</td>\n",
       "    </tr>\n",
       "    <tr>\n",
       "      <th>WaggaWagga</th>\n",
       "      <td>9.910232</td>\n",
       "      <td>23.208815</td>\n",
       "    </tr>\n",
       "    <tr>\n",
       "      <th>Watsonia</th>\n",
       "      <td>10.188100</td>\n",
       "      <td>20.993189</td>\n",
       "    </tr>\n",
       "    <tr>\n",
       "      <th>Williamtown</th>\n",
       "      <td>12.980946</td>\n",
       "      <td>24.319711</td>\n",
       "    </tr>\n",
       "    <tr>\n",
       "      <th>Woomera</th>\n",
       "      <td>13.372502</td>\n",
       "      <td>26.358135</td>\n",
       "    </tr>\n",
       "  </tbody>\n",
       "</table>\n",
       "</div>"
      ],
      "text/plain": [
       "                        min        max\n",
       "loc                                   \n",
       "AliceSprings      13.949508  29.648652\n",
       "Bendigo            9.004450  21.351545\n",
       "Brisbane          16.402767  26.466733\n",
       "Cairns            21.133826  29.518690\n",
       "Canberra           7.739276  20.371403\n",
       "Cobar             13.155417  25.714819\n",
       "CoffsHarbour      14.505263  23.865610\n",
       "Darwin            23.166895  32.558080\n",
       "Hobart             8.952410  17.766308\n",
       "Katherine         20.513957  35.031595\n",
       "Melbourne         11.673249  20.590258\n",
       "MelbourneAirport   9.958840  20.494437\n",
       "Mildura           10.883015  24.899625\n",
       "Moree             12.833691  26.868357\n",
       "MountGambier       8.940822  19.991181\n",
       "NorfolkIsland     16.856120  21.792005\n",
       "Nuriootpa          9.699902  22.031854\n",
       "Perth             13.071056  25.187822\n",
       "PerthAirport      12.682276  25.603291\n",
       "Portland           9.646951  17.210831\n",
       "Richmond          14.942282  23.940268\n",
       "Sale               8.597770  20.416080\n",
       "Sydney            15.027412  23.454882\n",
       "SydneyAirport     14.890676  23.422981\n",
       "Townsville        20.551959  29.408706\n",
       "WaggaWagga         9.910232  23.208815\n",
       "Watsonia          10.188100  20.993189\n",
       "Williamtown       12.980946  24.319711\n",
       "Woomera           13.372502  26.358135"
      ]
     },
     "execution_count": 14,
     "metadata": {},
     "output_type": "execute_result"
    }
   ],
   "source": [
    "data_1.groupby(\"loc\").mean()"
   ]
  },
  {
   "cell_type": "code",
   "execution_count": null,
   "id": "1c4cdc88",
   "metadata": {},
   "outputs": [],
   "source": []
  }
 ],
 "metadata": {
  "kernelspec": {
   "display_name": "Python 3",
   "language": "python",
   "name": "python3"
  },
  "language_info": {
   "codemirror_mode": {
    "name": "ipython",
    "version": 3
   },
   "file_extension": ".py",
   "mimetype": "text/x-python",
   "name": "python",
   "nbconvert_exporter": "python",
   "pygments_lexer": "ipython3",
   "version": "3.8.8"
  }
 },
 "nbformat": 4,
 "nbformat_minor": 5
}
