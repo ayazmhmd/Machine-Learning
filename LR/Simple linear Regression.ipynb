{
 "cells": [
  {
   "cell_type": "markdown",
   "id": "e3edb941",
   "metadata": {},
   "source": [
    "# loading Required Libraries"
   ]
  },
  {
   "cell_type": "code",
   "execution_count": 119,
   "id": "7e2012c9",
   "metadata": {},
   "outputs": [],
   "source": [
    "import numpy as np\n",
    "import pandas as pd\n",
    "import matplotlib.pyplot as plt\n",
    "import seaborn as sns\n"
   ]
  },
  {
   "cell_type": "markdown",
   "id": "9de12385",
   "metadata": {},
   "source": [
    "# Reading csv file"
   ]
  },
  {
   "cell_type": "code",
   "execution_count": 52,
   "id": "66586915",
   "metadata": {},
   "outputs": [],
   "source": [
    "train=pd.read_csv(\"train.csv\")"
   ]
  },
  {
   "cell_type": "code",
   "execution_count": 53,
   "id": "810efa0d",
   "metadata": {},
   "outputs": [],
   "source": [
    "x=train.iloc[:,0]\n",
    "y=train.iloc[:,1]"
   ]
  },
  {
   "cell_type": "code",
   "execution_count": 54,
   "id": "e9b39c03",
   "metadata": {},
   "outputs": [
    {
     "data": {
      "text/plain": [
       "0      24.0\n",
       "1      50.0\n",
       "2      15.0\n",
       "3      38.0\n",
       "4      87.0\n",
       "       ... \n",
       "695    58.0\n",
       "696    93.0\n",
       "697    82.0\n",
       "698    66.0\n",
       "699    97.0\n",
       "Name: x, Length: 700, dtype: float64"
      ]
     },
     "execution_count": 54,
     "metadata": {},
     "output_type": "execute_result"
    }
   ],
   "source": [
    "x"
   ]
  },
  {
   "cell_type": "code",
   "execution_count": 55,
   "id": "637bb5ce",
   "metadata": {},
   "outputs": [
    {
     "data": {
      "text/plain": [
       "0      21.549452\n",
       "1      47.464463\n",
       "2      17.218656\n",
       "3      36.586398\n",
       "4      87.288984\n",
       "         ...    \n",
       "695    58.595006\n",
       "696    94.625094\n",
       "697    88.603770\n",
       "698    63.648685\n",
       "699    94.975266\n",
       "Name: y, Length: 700, dtype: float64"
      ]
     },
     "execution_count": 55,
     "metadata": {},
     "output_type": "execute_result"
    }
   ],
   "source": [
    "y"
   ]
  },
  {
   "cell_type": "code",
   "execution_count": 56,
   "id": "c8c4aa08",
   "metadata": {},
   "outputs": [
    {
     "data": {
      "text/html": [
       "<div>\n",
       "<style scoped>\n",
       "    .dataframe tbody tr th:only-of-type {\n",
       "        vertical-align: middle;\n",
       "    }\n",
       "\n",
       "    .dataframe tbody tr th {\n",
       "        vertical-align: top;\n",
       "    }\n",
       "\n",
       "    .dataframe thead th {\n",
       "        text-align: right;\n",
       "    }\n",
       "</style>\n",
       "<table border=\"1\" class=\"dataframe\">\n",
       "  <thead>\n",
       "    <tr style=\"text-align: right;\">\n",
       "      <th></th>\n",
       "      <th>x</th>\n",
       "      <th>y</th>\n",
       "    </tr>\n",
       "  </thead>\n",
       "  <tbody>\n",
       "    <tr>\n",
       "      <th>0</th>\n",
       "      <td>24.0</td>\n",
       "      <td>21.549452</td>\n",
       "    </tr>\n",
       "    <tr>\n",
       "      <th>1</th>\n",
       "      <td>50.0</td>\n",
       "      <td>47.464463</td>\n",
       "    </tr>\n",
       "    <tr>\n",
       "      <th>2</th>\n",
       "      <td>15.0</td>\n",
       "      <td>17.218656</td>\n",
       "    </tr>\n",
       "    <tr>\n",
       "      <th>3</th>\n",
       "      <td>38.0</td>\n",
       "      <td>36.586398</td>\n",
       "    </tr>\n",
       "    <tr>\n",
       "      <th>4</th>\n",
       "      <td>87.0</td>\n",
       "      <td>87.288984</td>\n",
       "    </tr>\n",
       "  </tbody>\n",
       "</table>\n",
       "</div>"
      ],
      "text/plain": [
       "      x          y\n",
       "0  24.0  21.549452\n",
       "1  50.0  47.464463\n",
       "2  15.0  17.218656\n",
       "3  38.0  36.586398\n",
       "4  87.0  87.288984"
      ]
     },
     "execution_count": 56,
     "metadata": {},
     "output_type": "execute_result"
    }
   ],
   "source": [
    "train.head()"
   ]
  },
  {
   "cell_type": "code",
   "execution_count": 57,
   "id": "ed67f4d8",
   "metadata": {},
   "outputs": [
    {
     "data": {
      "text/plain": [
       "<matplotlib.collections.PathCollection at 0x22ba6d30730>"
      ]
     },
     "execution_count": 57,
     "metadata": {},
     "output_type": "execute_result"
    },
    {
     "data": {
      "image/png": "[encoded data removed]",
      "text/plain": [
       "<Figure size 432x288 with 1 Axes>"
      ]
     },
     "metadata": {
      "needs_background": "light"
     },
     "output_type": "display_data"
    }
   ],
   "source": [
    "plt.scatter(x,y)"
   ]
  },
  {
   "cell_type": "code",
   "execution_count": 58,
   "id": "6021036e",
   "metadata": {},
   "outputs": [
    {
     "data": {
      "text/html": [
       "<div>\n",
       "<style scoped>\n",
       "    .dataframe tbody tr th:only-of-type {\n",
       "        vertical-align: middle;\n",
       "    }\n",
       "\n",
       "    .dataframe tbody tr th {\n",
       "        vertical-align: top;\n",
       "    }\n",
       "\n",
       "    .dataframe thead th {\n",
       "        text-align: right;\n",
       "    }\n",
       "</style>\n",
       "<table border=\"1\" class=\"dataframe\">\n",
       "  <thead>\n",
       "    <tr style=\"text-align: right;\">\n",
       "      <th></th>\n",
       "      <th>x</th>\n",
       "      <th>y</th>\n",
       "    </tr>\n",
       "  </thead>\n",
       "  <tbody>\n",
       "    <tr>\n",
       "      <th>count</th>\n",
       "      <td>700.000000</td>\n",
       "      <td>699.000000</td>\n",
       "    </tr>\n",
       "    <tr>\n",
       "      <th>mean</th>\n",
       "      <td>54.985939</td>\n",
       "      <td>49.939869</td>\n",
       "    </tr>\n",
       "    <tr>\n",
       "      <th>std</th>\n",
       "      <td>134.681703</td>\n",
       "      <td>29.109217</td>\n",
       "    </tr>\n",
       "    <tr>\n",
       "      <th>min</th>\n",
       "      <td>0.000000</td>\n",
       "      <td>-3.839981</td>\n",
       "    </tr>\n",
       "    <tr>\n",
       "      <th>25%</th>\n",
       "      <td>25.000000</td>\n",
       "      <td>24.929968</td>\n",
       "    </tr>\n",
       "    <tr>\n",
       "      <th>50%</th>\n",
       "      <td>49.000000</td>\n",
       "      <td>48.973020</td>\n",
       "    </tr>\n",
       "    <tr>\n",
       "      <th>75%</th>\n",
       "      <td>75.000000</td>\n",
       "      <td>74.929911</td>\n",
       "    </tr>\n",
       "    <tr>\n",
       "      <th>max</th>\n",
       "      <td>3530.157369</td>\n",
       "      <td>108.871618</td>\n",
       "    </tr>\n",
       "  </tbody>\n",
       "</table>\n",
       "</div>"
      ],
      "text/plain": [
       "                 x           y\n",
       "count   700.000000  699.000000\n",
       "mean     54.985939   49.939869\n",
       "std     134.681703   29.109217\n",
       "min       0.000000   -3.839981\n",
       "25%      25.000000   24.929968\n",
       "50%      49.000000   48.973020\n",
       "75%      75.000000   74.929911\n",
       "max    3530.157369  108.871618"
      ]
     },
     "execution_count": 58,
     "metadata": {},
     "output_type": "execute_result"
    }
   ],
   "source": [
    "train.describe()"
   ]
  },
  {
   "cell_type": "code",
   "execution_count": 59,
   "id": "2f67cc04",
   "metadata": {},
   "outputs": [
    {
     "name": "stderr",
     "output_type": "stream",
     "text": [
      "C:\\ProgramData\\Anaconda3\\lib\\site-packages\\seaborn\\distributions.py:2619: FutureWarning: `distplot` is a deprecated function and will be removed in a future version. Please adapt your code to use either `displot` (a figure-level function with similar flexibility) or `histplot` (an axes-level function for histograms).\n",
      "  warnings.warn(msg, FutureWarning)\n"
     ]
    },
    {
     "data": {
      "text/plain": [
       "<AxesSubplot:xlabel='x', ylabel='Density'>"
      ]
     },
     "execution_count": 59,
     "metadata": {},
     "output_type": "execute_result"
    },
    {
     "data": {
      "image/png": "[encoded data removed]",
      "text/plain": [
       "<Figure size 432x288 with 1 Axes>"
      ]
     },
     "metadata": {
      "needs_background": "light"
     },
     "output_type": "display_data"
    }
   ],
   "source": [
    "sns.distplot(x)"
   ]
  },
  {
   "cell_type": "markdown",
   "id": "0d8e101b",
   "metadata": {},
   "source": [
    "\n",
    "# Dropping outlier"
   ]
  },
  {
   "cell_type": "code",
   "execution_count": 60,
   "id": "1abce4c5",
   "metadata": {},
   "outputs": [],
   "source": [
    "drop=x.quantile(0.99)"
   ]
  },
  {
   "cell_type": "code",
   "execution_count": 61,
   "id": "13862a1f",
   "metadata": {},
   "outputs": [
    {
     "name": "stderr",
     "output_type": "stream",
     "text": [
      "C:\\ProgramData\\Anaconda3\\lib\\site-packages\\seaborn\\distributions.py:2619: FutureWarning: `distplot` is a deprecated function and will be removed in a future version. Please adapt your code to use either `displot` (a figure-level function with similar flexibility) or `histplot` (an axes-level function for histograms).\n",
      "  warnings.warn(msg, FutureWarning)\n"
     ]
    },
    {
     "data": {
      "text/plain": [
       "<AxesSubplot:xlabel='y', ylabel='Density'>"
      ]
     },
     "execution_count": 61,
     "metadata": {},
     "output_type": "execute_result"
    },
    {
     "data": {
      "image/png": "[encoded data removed]",
      "text/plain": [
       "<Figure size 432x288 with 1 Axes>"
      ]
     },
     "metadata": {
      "needs_background": "light"
     },
     "output_type": "display_data"
    }
   ],
   "source": [
    "sns.distplot(y)"
   ]
  },
  {
   "cell_type": "code",
   "execution_count": 63,
   "id": "f5ccf522",
   "metadata": {},
   "outputs": [],
   "source": [
    "data=train[train['x']<drop]"
   ]
  },
  {
   "cell_type": "code",
   "execution_count": 64,
   "id": "64eba3e2",
   "metadata": {},
   "outputs": [
    {
     "name": "stderr",
     "output_type": "stream",
     "text": [
      "C:\\ProgramData\\Anaconda3\\lib\\site-packages\\seaborn\\distributions.py:2619: FutureWarning: `distplot` is a deprecated function and will be removed in a future version. Please adapt your code to use either `displot` (a figure-level function with similar flexibility) or `histplot` (an axes-level function for histograms).\n",
      "  warnings.warn(msg, FutureWarning)\n"
     ]
    },
    {
     "data": {
      "text/plain": [
       "<AxesSubplot:xlabel='x', ylabel='Density'>"
      ]
     },
     "execution_count": 64,
     "metadata": {},
     "output_type": "execute_result"
    },
    {
     "data": {
      "image/png": "[encoded data removed]",
      "text/plain": [
       "<Figure size 432x288 with 1 Axes>"
      ]
     },
     "metadata": {
      "needs_background": "light"
     },
     "output_type": "display_data"
    }
   ],
   "source": [
    "sns.distplot(data['x'])"
   ]
  },
  {
   "cell_type": "markdown",
   "id": "722fd7a9",
   "metadata": {},
   "source": [
    "# Scalling the data"
   ]
  },
  {
   "cell_type": "code",
   "execution_count": 74,
   "id": "cefb660f",
   "metadata": {},
   "outputs": [],
   "source": [
    "from sklearn.preprocessing import StandardScaler\n",
    "from sklearn.preprocessing import MinMaxScaler"
   ]
  },
  {
   "cell_type": "code",
   "execution_count": 75,
   "id": "7849d06d",
   "metadata": {},
   "outputs": [],
   "source": [
    "scaler1=StandardScaler()\n",
    "scaler2=MinMaxScaler()"
   ]
  },
  {
   "cell_type": "code",
   "execution_count": 70,
   "id": "91973fd5",
   "metadata": {},
   "outputs": [],
   "source": [
    "data=data.reset_index(drop=True)"
   ]
  },
  {
   "cell_type": "code",
   "execution_count": 87,
   "id": "038c4995",
   "metadata": {},
   "outputs": [],
   "source": [
    "x=data['x']\n",
    "y=data['y']"
   ]
  },
  {
   "cell_type": "code",
   "execution_count": 78,
   "id": "6397c512",
   "metadata": {},
   "outputs": [
    {
     "data": {
      "text/plain": [
       "0      24.0\n",
       "1      50.0\n",
       "2      15.0\n",
       "3      38.0\n",
       "4      87.0\n",
       "       ... \n",
       "685    58.0\n",
       "686    93.0\n",
       "687    82.0\n",
       "688    66.0\n",
       "689    97.0\n",
       "Name: x, Length: 690, dtype: float64"
      ]
     },
     "execution_count": 78,
     "metadata": {},
     "output_type": "execute_result"
    }
   ],
   "source": [
    "x #x is series and scaler transform works on dataframe"
   ]
  },
  {
   "cell_type": "code",
   "execution_count": 97,
   "id": "3f47cdd8",
   "metadata": {},
   "outputs": [],
   "source": [
    "\n",
    "x=x.values  #so we convert x into array\n",
    "y=y.values"
   ]
  },
  {
   "cell_type": "code",
   "execution_count": 98,
   "id": "e9f3e478",
   "metadata": {},
   "outputs": [
    {
     "data": {
      "text/plain": [
       "array([ 21.54945196,  47.46446305,  17.21865634,  36.58639803,\n",
       "        87.28898389,  32.46387493,  10.78089683,  80.7633986 ,\n",
       "        24.61215147,   6.96331907,  11.23757338,  13.53290206,\n",
       "        24.60323899,  39.40049976,  48.43753838,  61.69900319,\n",
       "        26.92832418,  70.4052055 ,  29.34092408,  25.30895192,\n",
       "        69.02934339,  84.99484703,  57.04310305,  50.5921991 ,\n",
       "        83.02772202,  57.05752706,  47.95883341,  24.34226432,\n",
       "        94.68488281,  48.03970696,   7.08132338,  21.99239907,\n",
       "        42.33151664,   0.32908944,  61.92303698,  91.17716423,\n",
       "        39.45358014,   5.99606961,  22.59015942,  61.18044414,\n",
       "        85.02778957,  -1.28631089,  61.94273962,  21.96033347,\n",
       "        33.66194193,  17.60946242,  58.5630564 ,  52.82390762,\n",
       "        22.1363481 ,  35.07467353,  86.18822311,  42.63227697,\n",
       "         4.09817744,  61.2229864 ,  17.70677576,  11.85312574,\n",
       "        80.23051695,  62.64931741,   9.6168598 ,  20.02797699,\n",
       "        61.7510743 ,  71.61010303,  23.77154623,  51.90142035,\n",
       "        22.66073682,  50.02897927,  26.68794368,   0.3769119 ,\n",
       "         6.806419  ,  77.33986001,  28.90260209,  66.7346608 ,\n",
       "         0.70751064,  57.07748383,  28.41453196,  44.46272123,\n",
       "         7.459606  ,   2.31670811,   4.92854619,  52.50336074,\n",
       "        91.19109623,   8.48916433,   6.96337197,  31.97989959,\n",
       "        81.4281205 ,  22.62365422,  78.52505087,  25.80714057,\n",
       "        73.51081775,  91.775467  ,  49.21863516,  80.50445387,\n",
       "        50.05636123,  25.46292549,  55.32164264,  59.1244888 ,\n",
       "         1.10068669,  71.98020786,  30.13666408,  83.88427405,\n",
       "        89.91004752,   8.33565458,  47.88388961,  45.00397413,\n",
       "        31.15664574,   9.19037568,  74.83135003,  30.23177607,\n",
       "        24.21914027,  57.87219151,  50.61728392,  78.67470043,\n",
       "        86.236707  ,  89.10409255,  43.26595082,  26.68273277,\n",
       "        59.46383041,  28.90055826,  31.300416  ,  71.1433266 ,\n",
       "        68.4739206 ,  39.98238856,   4.07577614,  47.85817542,\n",
       "        51.20390217,  43.9367213 ,  38.13626679,   3.57466163,\n",
       "        36.4139958 ,  22.21908523,  63.5312572 ,  49.86702787,\n",
       "        21.53140009,  64.05710234,  70.77549842,  92.15749762,\n",
       "        81.22259156,  25.10114067,  94.08853397,  53.25166165,\n",
       "        59.16236621,  75.24148428,  28.22325833,  25.33323728,\n",
       "         6.3646157 ,  95.4609216 ,  88.64183756,  58.70318693,\n",
       "         6.81549128,  99.40394676,  32.77049249,  47.0586788 ,\n",
       "        60.53321778,  40.30929858,  89.42222685,  86.82132066,\n",
       "        26.11697543,  53.26657596,  95.78441027,   6.04728669,\n",
       "        24.47387908,  75.96844763,   3.82938101,  52.51703683,\n",
       "        72.80457527,  14.10999096,  80.86087062,  77.01988215,\n",
       "        86.26972444,  77.13735466,  51.47649476,  17.34557531,\n",
       "        57.72853572,  44.15029394,  59.24362743,  -1.05327561,\n",
       "        86.79002254,  60.14031858,  44.04222058,  24.5227488 ,\n",
       "        52.95305521,  43.16133498,  45.67562576,  -2.8307495 ,\n",
       "        29.19693178,  96.49812401,  22.5453232 ,  20.10741433,\n",
       "         4.03543025,  61.14568518,  13.97163653,  55.34529893,\n",
       "        12.18441166,  64.00077658,  70.3188322 ,  -0.93689505,\n",
       "        18.91422276,  23.87590331,  47.5775361 ,  43.2736092 ,\n",
       "        66.48278755,  75.72605529,  80.59643338,  -2.23587985,\n",
       "        47.04654956,  21.59635575,  32.87558963,  57.95782956,\n",
       "        52.24760027,  24.58286902,  12.12573805,  74.04682658,\n",
       "         1.61194747,  70.36836307,  52.26831735,  83.1286166 ,\n",
       "        43.64765048,  49.44785426,  72.6356699 ,  52.78130641,\n",
       "        57.11195136,  79.1050629 , 101.6228548 ,  53.5825402 ,\n",
       "        68.92139297,  46.9666961 ,  51.02642868,  85.52073551,\n",
       "        99.51685756,  94.63911256,  46.78357742,  21.21321959,\n",
       "        58.37266004,  87.22059677,  43.88314335,  53.06655757,\n",
       "        26.33464785,  98.52008934,   9.40049758,  52.94026699,\n",
       "        53.83020877,  45.94511142,  65.0132736 ,  86.5069584 ,\n",
       "        75.63280796,  36.78035027, 100.5328916 ,  29.04466136,\n",
       "        51.70352433,   9.19995472,  71.70015848,  49.82634062,\n",
       "        37.49971096,  53.65084683,  33.92561965,  49.92639685,\n",
       "         8.14815426,  49.72359037,  16.16712757,  75.30033002,\n",
       "         9.57736857,  48.38088357,  72.95331671,  92.59573853,\n",
       "        88.85523586,  45.09439571,  46.94362684,  48.33449605,\n",
       "        94.92329574,  47.78165248,  81.28960746,  37.83155021,\n",
       "        39.69185252,  76.92664854,  88.02990531,  56.99178872,\n",
       "        72.58929383,  44.98103442,  11.99017641,   1.91951333,\n",
       "         1.62882607,  66.27746655,  57.53887255,  94.70291077,\n",
       "        41.21469904,  25.04169243,   3.77820991,  50.50711779,\n",
       "         9.68240849,  48.88147608,  54.40348599,  71.70233156,\n",
       "        69.35848388,  26.03323718,  75.48910307,  36.59623056,\n",
       "        40.95102191,  86.78316267,  15.50701184,  85.86077871,\n",
       "        79.20610113,  80.80643766,  48.59717283,  13.93415049,\n",
       "        27.3051179 ,  14.00226297,  33.67416   ,  13.11612884,\n",
       "        24.76649193,  73.68477876,  77.53149541,  76.24503196,\n",
       "        88.0578931 ,  35.02445799,  21.65857739,  17.33681562,\n",
       "        94.36778957,  33.43396307,  32.52179399,  90.57741298,\n",
       "        71.25634126,  31.23212856,   5.39884006,  18.56241391,\n",
       "        71.97121038,   5.22575957,  73.5964342 ,  49.76948983,\n",
       "        82.69087513,   1.65230909,  -3.83665214,  62.03811556,\n",
       "        61.26514581,  13.24991628,  88.61672694,  21.13655528,\n",
       "        23.85017475,  92.01203405,  10.26712261,  54.14681616,\n",
       "        87.00645713,  37.69447352,  19.62278654,  34.78561007,\n",
       "        62.03190983,  52.67003801,  58.09031476,  97.19448821,\n",
       "        90.50155298,  50.5123462 ,  94.45211871,  21.10794636,\n",
       "        37.36298431,  10.28574844,  96.04932416, 100.0953697 ,\n",
       "        30.6063167 ,  96.19000542,  71.30828034,  34.59311043,\n",
       "        19.02332876,  10.76669688,  90.5799868 ,  48.71787679,\n",
       "        78.74139764,  85.23492274,  71.65789964,   8.93899055,\n",
       "        39.89606046,  91.85091116,  99.11200375,  26.22196486,\n",
       "        33.21584226,  35.72392691,  76.88604495,  99.30874567,\n",
       "        25.77161074,  67.85169407,  98.50371084,  31.11331895,\n",
       "        45.51171028,  12.65537808,  95.56065366,   9.52643164,\n",
       "        36.10893209,  46.43628318,  -3.83998112,  48.97302037,\n",
       "        93.25305499,  23.47650968,  17.13551132,  14.55896144,\n",
       "        41.53992729,  91.64730552,  66.16652565,   9.23085749,\n",
       "        47.41377893,  34.76441561,  86.10796637,  21.81267954,\n",
       "        48.89963951,  46.78108638,  12.91328547,  94.55203143,\n",
       "        94.97068753,   2.37917248,  21.47982988,  35.79795462,\n",
       "        82.0763803 ,  78.87097714,  47.2492425 ,  96.18852325,\n",
       "        78.38491927,  42.94274064,  64.43231595,  84.21191485,\n",
       "        57.3069783 ,  52.52101436,  25.7440243 ,  75.42283401,\n",
       "        53.62523007,  75.14466308,  74.12151511,  36.24807243,\n",
       "        20.21665898,  66.94758118,  34.07278254,  73.13850045,\n",
       "        92.85929155,  28.36793808,  85.59308727,  10.68453755,\n",
       "        86.10708624,  33.22031418,  66.09563422,  19.30486546,\n",
       "        48.84542083,  93.73176312,  75.45758614,  91.24239226,\n",
       "        87.15690853,  25.53752833,  46.06629478,  49.65277661,\n",
       "         7.38224417,  71.11189935,  83.50570521,   8.79113989,\n",
       "        33.30638903,  26.40362524,  91.72960726,  82.53030719,\n",
       "        36.67762733,  86.98450355,  32.34784175,  16.78353974,\n",
       "         1.57658438,  17.4618141 ,   2.11611303,  24.34804332,\n",
       "        48.29491198,  85.52145453,  73.71434779,  63.15189497,\n",
       "        38.46213684,  19.47100788,  94.07428225,  67.92051286,\n",
       "        22.58096241,  16.01629889,  48.43307886,  29.6673599 ,\n",
       "        26.65566328,  86.28206739,  50.82304924,  88.57251713,\n",
       "        32.59980745,  21.02469368,  20.72894979,  20.38051187,\n",
       "        57.25180153,   6.96753705,  10.240085  ,  64.94841088,\n",
       "        55.35893915,  31.24365589,  90.72048818,  58.750127  ,\n",
       "        55.85003198,  60.19925869,  85.03295412,  60.38823085,\n",
       "        18.44679787,  82.18839247,  94.2963344 ,   7.68202459,\n",
       "        61.01858089,  53.60562216,  94.47728801,  27.9645947 ,\n",
       "        62.55662585,   1.40625441,  13.84973988,  28.99769315,\n",
       "        99.04315693,  15.56135514,  24.63528393,  53.98393374,\n",
       "        42.91449728,  74.29662112,  91.17012883,  49.42440876,\n",
       "        82.47683519,  56.15303953,  37.17063131,  46.36928662,\n",
       "        97.02383456,  40.83182104,  24.08498313,  41.14386358,\n",
       "        21.97388066, 100.740897  ,  61.19971596,  74.39517002,\n",
       "        69.04377173,  56.68718792,   5.86039171,  55.72021356,\n",
       "        79.22021816,  86.30177517,  25.26971886,  36.33294447,\n",
       "        27.65574228,  94.79690531,  58.67366671,  56.15934471,\n",
       "        18.40919388,  86.26936988,  26.59436195,   8.45252016,\n",
       "        56.18131518,  27.65452669,  20.87391785,  77.83354439,\n",
       "        50.01787825,   9.29085626,  75.0284725 ,  38.3037698 ,\n",
       "        44.70786405,  22.51016575, 102.4959452 ,  86.76845244,\n",
       "        13.89748578,  24.81824269,  33.94224862,  92.26970059,\n",
       "        68.73365081,  47.38516883,  32.37576914,  87.67388681,\n",
       "        54.57648371,  18.06450222,   7.89653984,  35.00341078,\n",
       "        36.72823317,  65.84975426,  89.59295492,  61.69026202,\n",
       "        11.60499315,  71.0826803 ,  43.71901164,  41.57421008,\n",
       "        74.25552425,  66.28310437,  36.62438077,  10.32374866,\n",
       "         7.15645766,  67.88603132, 101.1097591 ,  98.6132033 ,\n",
       "        50.19083844,  27.83896261,  55.9249564 ,  76.47340872,\n",
       "        92.05756378,  27.35245439,  55.32083476,  41.39990349,\n",
       "        93.59057024,   5.29705403,  21.01429422,   2.26705945,\n",
       "        -0.1218605 ,  66.49546208,  73.83637687,  42.10140878,\n",
       "        77.35135732,  41.02251779,  14.75305272,  83.28199022,\n",
       "        89.93374342,   2.28657169,  55.61421297,  62.15313408,\n",
       "        89.55803528,  94.00291863,  26.78023848,  -0.76453763,\n",
       "         0.282866  ,  44.26800515,  19.85174138,  47.15960005,\n",
       "         8.35936657,  92.08157084,  41.88734051,  30.5413129 ,\n",
       "        46.87654473,  96.35659485,  17.9170699 ,  71.67949917,\n",
       "        32.64997554,  39.34482965,  17.03401999,  52.87524074,\n",
       "        15.85414849,  49.30477253,  89.4749477 ,  63.67348242,\n",
       "        83.78410946,  73.51136922,  46.80297244,   5.8099468 ,\n",
       "        85.23027975,  10.58213964,  21.37698317,  46.0537745 ,\n",
       "        95.2389253 ,  94.15149206,  54.54868046,  87.36260449,\n",
       "        88.47741598,  84.48045678,  48.79647071,  10.76675683,\n",
       "        30.48882921,  29.76846185,  13.51574749,  86.12955884,\n",
       "        43.30022747,  51.92110232,  16.49185287,   7.99807343,\n",
       "        97.66689567,  89.80545367,  38.07166567,  60.27852322,\n",
       "         6.70919576,  18.35488924,  56.37058203,  62.80064204,\n",
       "        41.25155632,  19.42637541,  82.88935804,  63.61364981,\n",
       "        11.29627199,  60.02274882,  72.60339326,  11.87964573,\n",
       "        45.12420809,  14.81106804,  48.09368034,  42.29145672,\n",
       "        52.73389794,  36.72396986,  28.64535198,  62.16675273,\n",
       "        66.04325304,  99.9566225 ,  46.14941984,  89.13754963,\n",
       "        69.71787806,  12.31736648,  78.20296268,  71.30995371,\n",
       "        81.45544709,  58.59500642,  94.62509374,  88.60376995,\n",
       "        63.64868529,  94.9752655 ])"
      ]
     },
     "execution_count": 98,
     "metadata": {},
     "output_type": "execute_result"
    }
   ],
   "source": [
    "y"
   ]
  },
  {
   "cell_type": "code",
   "execution_count": 82,
   "id": "0d32314c",
   "metadata": {},
   "outputs": [
    {
     "data": {
      "text/plain": [
       "array([24., 50., 15., 38., 87., 36., 12., 81., 25.,  5., 16., 16., 24.,\n",
       "       39., 54., 60., 26., 73., 29., 31., 68., 87., 58., 54., 84., 58.,\n",
       "       49., 20., 90., 48.,  4., 25., 42.,  0., 60., 93., 39.,  7., 21.,\n",
       "       68., 84.,  0., 58., 19., 36., 19., 59., 51., 19., 33., 85., 44.,\n",
       "        5., 59., 14.,  9., 75., 69., 10., 17., 58., 74., 21., 51., 19.,\n",
       "       50., 24.,  0., 12., 75., 21., 64.,  5., 58., 32., 41.,  7.,  4.,\n",
       "        5., 49., 90.,  3., 11., 32., 83., 25., 83., 26., 76., 95., 53.,\n",
       "       77., 42., 25., 54., 55.,  0., 73., 35., 86., 90., 13., 46., 46.,\n",
       "       32.,  8., 71., 28., 24., 56., 49., 79., 90., 89., 41., 27., 58.,\n",
       "       26., 31., 70., 71., 39.,  7., 48., 56., 45., 41.,  3., 37., 24.,\n",
       "       68., 47., 27., 68., 74., 95., 79., 21., 95., 54., 56., 80., 26.,\n",
       "       25.,  8., 95., 94., 54.,  7., 99., 36., 48., 65., 42., 93., 86.,\n",
       "       26., 51., 94.,  6., 24., 75.,  7., 53., 73., 16., 80., 77., 89.,\n",
       "       80., 55., 19., 56., 47., 56.,  2., 82., 57., 44., 26., 52., 41.,\n",
       "       44.,  3., 31., 97., 21., 17.,  7., 61., 10., 52., 10., 65., 71.,\n",
       "        4., 24., 26., 51., 42., 62., 74., 77.,  3., 50., 24., 37., 58.,\n",
       "       52., 27., 14., 72.,  5., 71., 54., 84., 42., 54., 74., 54., 53.,\n",
       "       78., 97., 49., 71., 48., 51., 89., 99., 93., 49., 18., 65., 83.,\n",
       "       41., 52., 29., 97.,  7., 51., 58., 50., 67., 89., 76., 35., 99.,\n",
       "       31., 52., 11., 66., 50., 39., 60., 35., 53., 14., 49., 16., 76.,\n",
       "       13., 51., 70., 98., 86., 46., 51., 50., 91., 48., 81., 38., 40.,\n",
       "       79., 96., 60., 70., 44., 11.,  6.,  5., 72., 55., 95., 41., 25.,\n",
       "        1., 55.,  4., 48., 55., 75., 68., 25., 75., 34., 38., 92., 21.,\n",
       "       88., 75., 76., 44., 10., 21., 16., 32., 13., 26., 70., 77., 77.,\n",
       "       88., 35., 24., 17., 91., 32., 36., 89., 69., 30.,  6., 22., 67.,\n",
       "        9., 74., 50., 85.,  3.,  0., 59., 62., 17., 90., 23., 19., 93.,\n",
       "       14., 58., 87., 37., 20., 35., 63., 56., 62., 98., 90., 51., 93.,\n",
       "       22., 38., 13., 98., 99., 31., 94., 73., 37., 23., 11., 88., 47.,\n",
       "       79., 91., 71., 10., 39., 92., 99., 28., 32., 32., 75., 99., 27.,\n",
       "       64., 98., 38., 46., 13., 96.,  9., 34., 49.,  1., 50., 94., 27.,\n",
       "       20., 12., 45., 91., 61., 10., 47., 33., 84., 24., 48., 48.,  9.,\n",
       "       93., 99.,  8., 20., 38., 78., 81., 42., 95., 78., 44., 68., 87.,\n",
       "       58., 52., 26., 75., 48., 71., 77., 34., 24., 70., 29., 76., 98.,\n",
       "       28., 87.,  9., 87., 33., 64., 17., 49., 95., 75., 89., 81., 25.,\n",
       "       47., 50.,  5., 68., 84.,  8., 41., 26., 89., 78., 34., 92., 27.,\n",
       "       12.,  2., 22.,  0., 26., 50., 84., 70., 66., 42., 19., 94., 71.,\n",
       "       19., 16., 49., 29., 29., 86., 50., 86., 30., 23., 20., 16., 57.,\n",
       "        8.,  8., 62., 55., 30., 86., 62., 51., 61., 86., 61., 21., 81.,\n",
       "       97.,  5., 61., 47., 98., 30., 63.,  0., 18., 30., 98., 16., 22.,\n",
       "       55., 43., 75., 91., 46., 85., 55., 36., 49., 94., 43., 22., 37.,\n",
       "       24., 95., 61., 75., 68., 58.,  5., 53., 80., 83., 25., 34., 26.,\n",
       "       90., 60., 49., 19., 92., 29.,  8., 57., 29., 19., 81., 50., 15.,\n",
       "       70., 39., 43., 21., 98., 86., 16., 25., 31., 93., 67., 49., 25.,\n",
       "       88., 54., 21.,  8., 32., 35., 67., 90., 59., 15., 67., 42., 44.,\n",
       "       77., 68., 36., 11., 10., 65., 98., 98., 49., 31., 56., 70., 91.,\n",
       "       25., 54., 39., 91.,  3., 22.,  2.,  2., 65., 71., 42., 76., 43.,\n",
       "        8., 86., 87.,  3., 58., 62., 89., 95., 28.,  0.,  1., 49., 21.,\n",
       "       46., 11., 89., 37., 29., 44., 96., 16., 74., 35., 42., 16., 56.,\n",
       "       18., 54., 92., 63., 81., 73., 48.,  1., 85., 14., 25., 45., 98.,\n",
       "       97., 58., 93., 88., 89., 47.,  6., 34., 30., 16., 86., 40., 52.,\n",
       "       15.,  4., 95., 99., 35., 58., 10., 16., 53., 58., 42., 24., 84.,\n",
       "       64., 12., 61., 75., 15., 43., 13., 48., 45., 52., 34., 30., 65.,\n",
       "       67., 99., 45., 87., 73.,  9., 81., 72., 81., 58., 93., 82., 66.,\n",
       "       97.])"
      ]
     },
     "execution_count": 82,
     "metadata": {},
     "output_type": "execute_result"
    }
   ],
   "source": [
    "x"
   ]
  },
  {
   "cell_type": "code",
   "execution_count": 99,
   "id": "fcdbcbe2",
   "metadata": {},
   "outputs": [],
   "source": [
    "x= scaler1.fit_transform(x.reshape(-1,1)) \n",
    "y=y.reshape(-1,1)"
   ]
  },
  {
   "cell_type": "code",
   "execution_count": 84,
   "id": "0ddee72a",
   "metadata": {},
   "outputs": [
    {
     "data": {
      "text/plain": [
       "array([[-0.88836425],\n",
       "       [ 0.02233602],\n",
       "       [-1.20360664],\n",
       "       [-0.39798718],\n",
       "       [ 1.31833254],\n",
       "       [-0.46804105],\n",
       "       [-1.30868744],\n",
       "       [ 1.10817094],\n",
       "       [-0.85333731],\n",
       "       [-1.55387598],\n",
       "       [-1.16857971],\n",
       "       [-1.16857971],\n",
       "       [-0.88836425],\n",
       "       [-0.36296025],\n",
       "       [ 0.16244375],\n",
       "       [ 0.37260535],\n",
       "       [-0.81831038],\n",
       "       [ 0.82795548],\n",
       "       [-0.71322958],\n",
       "       [-0.64317571],\n",
       "       [ 0.65282081],\n",
       "       [ 1.31833254],\n",
       "       [ 0.30255148],\n",
       "       [ 0.16244375],\n",
       "       [ 1.21325174],\n",
       "       [ 0.30255148],\n",
       "       [-0.01269092],\n",
       "       [-1.02847198],\n",
       "       [ 1.42341334],\n",
       "       [-0.04771785],\n",
       "       [-1.58890291],\n",
       "       [-0.85333731],\n",
       "       [-0.25787945],\n",
       "       [-1.72901064],\n",
       "       [ 0.37260535],\n",
       "       [ 1.52849414],\n",
       "       [-0.36296025],\n",
       "       [-1.48382211],\n",
       "       [-0.99344505],\n",
       "       [ 0.65282081],\n",
       "       [ 1.21325174],\n",
       "       [-1.72901064],\n",
       "       [ 0.30255148],\n",
       "       [-1.06349891],\n",
       "       [-0.46804105],\n",
       "       [-1.06349891],\n",
       "       [ 0.33757841],\n",
       "       [ 0.05736295],\n",
       "       [-1.06349891],\n",
       "       [-0.57312185],\n",
       "       [ 1.24827867],\n",
       "       [-0.18782558],\n",
       "       [-1.55387598],\n",
       "       [ 0.33757841],\n",
       "       [-1.23863358],\n",
       "       [-1.41376824],\n",
       "       [ 0.89800934],\n",
       "       [ 0.68784774],\n",
       "       [-1.37874131],\n",
       "       [-1.13355278],\n",
       "       [ 0.30255148],\n",
       "       [ 0.86298241],\n",
       "       [-0.99344505],\n",
       "       [ 0.05736295],\n",
       "       [-1.06349891],\n",
       "       [ 0.02233602],\n",
       "       [-0.88836425],\n",
       "       [-1.72901064],\n",
       "       [-1.30868744],\n",
       "       [ 0.89800934],\n",
       "       [-0.99344505],\n",
       "       [ 0.51271308],\n",
       "       [-1.55387598],\n",
       "       [ 0.30255148],\n",
       "       [-0.60814878],\n",
       "       [-0.29290638],\n",
       "       [-1.48382211],\n",
       "       [-1.58890291],\n",
       "       [-1.55387598],\n",
       "       [-0.01269092],\n",
       "       [ 1.42341334],\n",
       "       [-1.62392984],\n",
       "       [-1.34371438],\n",
       "       [-0.60814878],\n",
       "       [ 1.17822481],\n",
       "       [-0.85333731],\n",
       "       [ 1.17822481],\n",
       "       [-0.81831038],\n",
       "       [ 0.93303628],\n",
       "       [ 1.59854801],\n",
       "       [ 0.12741681],\n",
       "       [ 0.96806321],\n",
       "       [-0.25787945],\n",
       "       [-0.85333731],\n",
       "       [ 0.16244375],\n",
       "       [ 0.19747068],\n",
       "       [-1.72901064],\n",
       "       [ 0.82795548],\n",
       "       [-0.50306798],\n",
       "       [ 1.28330561],\n",
       "       [ 1.42341334],\n",
       "       [-1.27366051],\n",
       "       [-0.11777172],\n",
       "       [-0.11777172],\n",
       "       [-0.60814878],\n",
       "       [-1.44879518],\n",
       "       [ 0.75790161],\n",
       "       [-0.74825651],\n",
       "       [-0.88836425],\n",
       "       [ 0.23249761],\n",
       "       [-0.01269092],\n",
       "       [ 1.03811708],\n",
       "       [ 1.42341334],\n",
       "       [ 1.38838641],\n",
       "       [-0.29290638],\n",
       "       [-0.78328345],\n",
       "       [ 0.30255148],\n",
       "       [-0.81831038],\n",
       "       [-0.64317571],\n",
       "       [ 0.72287468],\n",
       "       [ 0.75790161],\n",
       "       [-0.36296025],\n",
       "       [-1.48382211],\n",
       "       [-0.04771785],\n",
       "       [ 0.23249761],\n",
       "       [-0.15279865],\n",
       "       [-0.29290638],\n",
       "       [-1.62392984],\n",
       "       [-0.43301412],\n",
       "       [-0.88836425],\n",
       "       [ 0.65282081],\n",
       "       [-0.08274478],\n",
       "       [-0.78328345],\n",
       "       [ 0.65282081],\n",
       "       [ 0.86298241],\n",
       "       [ 1.59854801],\n",
       "       [ 1.03811708],\n",
       "       [-0.99344505],\n",
       "       [ 1.59854801],\n",
       "       [ 0.16244375],\n",
       "       [ 0.23249761],\n",
       "       [ 1.07314401],\n",
       "       [-0.81831038],\n",
       "       [-0.85333731],\n",
       "       [-1.44879518],\n",
       "       [ 1.59854801],\n",
       "       [ 1.56352107],\n",
       "       [ 0.16244375],\n",
       "       [-1.48382211],\n",
       "       [ 1.73865574],\n",
       "       [-0.46804105],\n",
       "       [-0.04771785],\n",
       "       [ 0.54774001],\n",
       "       [-0.25787945],\n",
       "       [ 1.52849414],\n",
       "       [ 1.28330561],\n",
       "       [-0.81831038],\n",
       "       [ 0.05736295],\n",
       "       [ 1.56352107],\n",
       "       [-1.51884904],\n",
       "       [-0.88836425],\n",
       "       [ 0.89800934],\n",
       "       [-1.48382211],\n",
       "       [ 0.12741681],\n",
       "       [ 0.82795548],\n",
       "       [-1.16857971],\n",
       "       [ 1.07314401],\n",
       "       [ 0.96806321],\n",
       "       [ 1.38838641],\n",
       "       [ 1.07314401],\n",
       "       [ 0.19747068],\n",
       "       [-1.06349891],\n",
       "       [ 0.23249761],\n",
       "       [-0.08274478],\n",
       "       [ 0.23249761],\n",
       "       [-1.65895677],\n",
       "       [ 1.14319788],\n",
       "       [ 0.26752455],\n",
       "       [-0.18782558],\n",
       "       [-0.81831038],\n",
       "       [ 0.09238988],\n",
       "       [-0.29290638],\n",
       "       [-0.18782558],\n",
       "       [-1.62392984],\n",
       "       [-0.64317571],\n",
       "       [ 1.66860187],\n",
       "       [-0.99344505],\n",
       "       [-1.13355278],\n",
       "       [-1.48382211],\n",
       "       [ 0.40763228],\n",
       "       [-1.37874131],\n",
       "       [ 0.09238988],\n",
       "       [-1.37874131],\n",
       "       [ 0.54774001],\n",
       "       [ 0.75790161],\n",
       "       [-1.58890291],\n",
       "       [-0.88836425],\n",
       "       [-0.81831038],\n",
       "       [ 0.05736295],\n",
       "       [-0.25787945],\n",
       "       [ 0.44265921],\n",
       "       [ 0.86298241],\n",
       "       [ 0.96806321],\n",
       "       [-1.62392984],\n",
       "       [ 0.02233602],\n",
       "       [-0.88836425],\n",
       "       [-0.43301412],\n",
       "       [ 0.30255148],\n",
       "       [ 0.09238988],\n",
       "       [-0.78328345],\n",
       "       [-1.23863358],\n",
       "       [ 0.79292854],\n",
       "       [-1.55387598],\n",
       "       [ 0.75790161],\n",
       "       [ 0.16244375],\n",
       "       [ 1.21325174],\n",
       "       [-0.25787945],\n",
       "       [ 0.16244375],\n",
       "       [ 0.86298241],\n",
       "       [ 0.16244375],\n",
       "       [ 0.12741681],\n",
       "       [ 1.00309014],\n",
       "       [ 1.66860187],\n",
       "       [-0.01269092],\n",
       "       [ 0.75790161],\n",
       "       [-0.04771785],\n",
       "       [ 0.05736295],\n",
       "       [ 1.38838641],\n",
       "       [ 1.73865574],\n",
       "       [ 1.52849414],\n",
       "       [-0.01269092],\n",
       "       [-1.09852584],\n",
       "       [ 0.54774001],\n",
       "       [ 1.17822481],\n",
       "       [-0.29290638],\n",
       "       [ 0.09238988],\n",
       "       [-0.71322958],\n",
       "       [ 1.66860187],\n",
       "       [-1.48382211],\n",
       "       [ 0.05736295],\n",
       "       [ 0.30255148],\n",
       "       [ 0.02233602],\n",
       "       [ 0.61779388],\n",
       "       [ 1.38838641],\n",
       "       [ 0.93303628],\n",
       "       [-0.50306798],\n",
       "       [ 1.73865574],\n",
       "       [-0.64317571],\n",
       "       [ 0.09238988],\n",
       "       [-1.34371438],\n",
       "       [ 0.58276695],\n",
       "       [ 0.02233602],\n",
       "       [-0.36296025],\n",
       "       [ 0.37260535],\n",
       "       [-0.50306798],\n",
       "       [ 0.12741681],\n",
       "       [-1.23863358],\n",
       "       [-0.01269092],\n",
       "       [-1.16857971],\n",
       "       [ 0.93303628],\n",
       "       [-1.27366051],\n",
       "       [ 0.05736295],\n",
       "       [ 0.72287468],\n",
       "       [ 1.70362881],\n",
       "       [ 1.28330561],\n",
       "       [-0.11777172],\n",
       "       [ 0.05736295],\n",
       "       [ 0.02233602],\n",
       "       [ 1.45844027],\n",
       "       [-0.04771785],\n",
       "       [ 1.10817094],\n",
       "       [-0.39798718],\n",
       "       [-0.32793332],\n",
       "       [ 1.03811708],\n",
       "       [ 1.63357494],\n",
       "       [ 0.37260535],\n",
       "       [ 0.72287468],\n",
       "       [-0.18782558],\n",
       "       [-1.34371438],\n",
       "       [-1.51884904],\n",
       "       [-1.55387598],\n",
       "       [ 0.79292854],\n",
       "       [ 0.19747068],\n",
       "       [ 1.59854801],\n",
       "       [-0.29290638],\n",
       "       [-0.85333731],\n",
       "       [-1.69398371],\n",
       "       [ 0.19747068],\n",
       "       [-1.58890291],\n",
       "       [-0.04771785],\n",
       "       [ 0.19747068],\n",
       "       [ 0.89800934],\n",
       "       [ 0.65282081],\n",
       "       [-0.85333731],\n",
       "       [ 0.89800934],\n",
       "       [-0.53809491],\n",
       "       [-0.39798718],\n",
       "       [ 1.49346721],\n",
       "       [-0.99344505],\n",
       "       [ 1.35335947],\n",
       "       [ 0.89800934],\n",
       "       [ 0.93303628],\n",
       "       [-0.18782558],\n",
       "       [-1.37874131],\n",
       "       [-0.99344505],\n",
       "       [-1.16857971],\n",
       "       [-0.60814878],\n",
       "       [-1.27366051],\n",
       "       [-0.81831038],\n",
       "       [ 0.72287468],\n",
       "       [ 0.96806321],\n",
       "       [ 0.96806321],\n",
       "       [ 1.35335947],\n",
       "       [-0.50306798],\n",
       "       [-0.88836425],\n",
       "       [-1.13355278],\n",
       "       [ 1.45844027],\n",
       "       [-0.60814878],\n",
       "       [-0.46804105],\n",
       "       [ 1.38838641],\n",
       "       [ 0.68784774],\n",
       "       [-0.67820265],\n",
       "       [-1.51884904],\n",
       "       [-0.95841811],\n",
       "       [ 0.61779388],\n",
       "       [-1.41376824],\n",
       "       [ 0.86298241],\n",
       "       [ 0.02233602],\n",
       "       [ 1.24827867],\n",
       "       [-1.62392984],\n",
       "       [-1.72901064],\n",
       "       [ 0.33757841],\n",
       "       [ 0.44265921],\n",
       "       [-1.13355278],\n",
       "       [ 1.42341334],\n",
       "       [-0.92339118],\n",
       "       [-1.06349891],\n",
       "       [ 1.52849414],\n",
       "       [-1.23863358],\n",
       "       [ 0.30255148],\n",
       "       [ 1.31833254],\n",
       "       [-0.43301412],\n",
       "       [-1.02847198],\n",
       "       [-0.50306798],\n",
       "       [ 0.47768615],\n",
       "       [ 0.23249761],\n",
       "       [ 0.44265921],\n",
       "       [ 1.70362881],\n",
       "       [ 1.42341334],\n",
       "       [ 0.05736295],\n",
       "       [ 1.52849414],\n",
       "       [-0.95841811],\n",
       "       [-0.39798718],\n",
       "       [-1.27366051],\n",
       "       [ 1.70362881],\n",
       "       [ 1.73865574],\n",
       "       [-0.64317571],\n",
       "       [ 1.56352107],\n",
       "       [ 0.82795548],\n",
       "       [-0.43301412],\n",
       "       [-0.92339118],\n",
       "       [-1.34371438],\n",
       "       [ 1.35335947],\n",
       "       [-0.08274478],\n",
       "       [ 1.03811708],\n",
       "       [ 1.45844027],\n",
       "       [ 0.75790161],\n",
       "       [-1.37874131],\n",
       "       [-0.36296025],\n",
       "       [ 1.49346721],\n",
       "       [ 1.73865574],\n",
       "       [-0.74825651],\n",
       "       [-0.60814878],\n",
       "       [-0.60814878],\n",
       "       [ 0.89800934],\n",
       "       [ 1.73865574],\n",
       "       [-0.78328345],\n",
       "       [ 0.51271308],\n",
       "       [ 1.70362881],\n",
       "       [-0.39798718],\n",
       "       [-0.11777172],\n",
       "       [-1.27366051],\n",
       "       [ 1.63357494],\n",
       "       [-1.41376824],\n",
       "       [-0.53809491],\n",
       "       [-0.01269092],\n",
       "       [-1.69398371],\n",
       "       [ 0.02233602],\n",
       "       [ 1.56352107],\n",
       "       [-0.78328345],\n",
       "       [-1.02847198],\n",
       "       [-1.30868744],\n",
       "       [-0.15279865],\n",
       "       [ 1.45844027],\n",
       "       [ 0.40763228],\n",
       "       [-1.37874131],\n",
       "       [-0.08274478],\n",
       "       [-0.57312185],\n",
       "       [ 1.21325174],\n",
       "       [-0.88836425],\n",
       "       [-0.04771785],\n",
       "       [-0.04771785],\n",
       "       [-1.41376824],\n",
       "       [ 1.52849414],\n",
       "       [ 1.73865574],\n",
       "       [-1.44879518],\n",
       "       [-1.02847198],\n",
       "       [-0.39798718],\n",
       "       [ 1.00309014],\n",
       "       [ 1.10817094],\n",
       "       [-0.25787945],\n",
       "       [ 1.59854801],\n",
       "       [ 1.00309014],\n",
       "       [-0.18782558],\n",
       "       [ 0.65282081],\n",
       "       [ 1.31833254],\n",
       "       [ 0.30255148],\n",
       "       [ 0.09238988],\n",
       "       [-0.81831038],\n",
       "       [ 0.89800934],\n",
       "       [-0.04771785],\n",
       "       [ 0.75790161],\n",
       "       [ 0.96806321],\n",
       "       [-0.53809491],\n",
       "       [-0.88836425],\n",
       "       [ 0.72287468],\n",
       "       [-0.71322958],\n",
       "       [ 0.93303628],\n",
       "       [ 1.70362881],\n",
       "       [-0.74825651],\n",
       "       [ 1.31833254],\n",
       "       [-1.41376824],\n",
       "       [ 1.31833254],\n",
       "       [-0.57312185],\n",
       "       [ 0.51271308],\n",
       "       [-1.13355278],\n",
       "       [-0.01269092],\n",
       "       [ 1.59854801],\n",
       "       [ 0.89800934],\n",
       "       [ 1.38838641],\n",
       "       [ 1.10817094],\n",
       "       [-0.85333731],\n",
       "       [-0.08274478],\n",
       "       [ 0.02233602],\n",
       "       [-1.55387598],\n",
       "       [ 0.65282081],\n",
       "       [ 1.21325174],\n",
       "       [-1.44879518],\n",
       "       [-0.29290638],\n",
       "       [-0.81831038],\n",
       "       [ 1.38838641],\n",
       "       [ 1.00309014],\n",
       "       [-0.53809491],\n",
       "       [ 1.49346721],\n",
       "       [-0.78328345],\n",
       "       [-1.30868744],\n",
       "       [-1.65895677],\n",
       "       [-0.95841811],\n",
       "       [-1.72901064],\n",
       "       [-0.81831038],\n",
       "       [ 0.02233602],\n",
       "       [ 1.21325174],\n",
       "       [ 0.72287468],\n",
       "       [ 0.58276695],\n",
       "       [-0.25787945],\n",
       "       [-1.06349891],\n",
       "       [ 1.56352107],\n",
       "       [ 0.75790161],\n",
       "       [-1.06349891],\n",
       "       [-1.16857971],\n",
       "       [-0.01269092],\n",
       "       [-0.71322958],\n",
       "       [-0.71322958],\n",
       "       [ 1.28330561],\n",
       "       [ 0.02233602],\n",
       "       [ 1.28330561],\n",
       "       [-0.67820265],\n",
       "       [-0.92339118],\n",
       "       [-1.02847198],\n",
       "       [-1.16857971],\n",
       "       [ 0.26752455],\n",
       "       [-1.44879518],\n",
       "       [-1.44879518],\n",
       "       [ 0.44265921],\n",
       "       [ 0.19747068],\n",
       "       [-0.67820265],\n",
       "       [ 1.28330561],\n",
       "       [ 0.44265921],\n",
       "       [ 0.05736295],\n",
       "       [ 0.40763228],\n",
       "       [ 1.28330561],\n",
       "       [ 0.40763228],\n",
       "       [-0.99344505],\n",
       "       [ 1.10817094],\n",
       "       [ 1.66860187],\n",
       "       [-1.55387598],\n",
       "       [ 0.40763228],\n",
       "       [-0.08274478],\n",
       "       [ 1.70362881],\n",
       "       [-0.67820265],\n",
       "       [ 0.47768615],\n",
       "       [-1.72901064],\n",
       "       [-1.09852584],\n",
       "       [-0.67820265],\n",
       "       [ 1.70362881],\n",
       "       [-1.16857971],\n",
       "       [-0.95841811],\n",
       "       [ 0.19747068],\n",
       "       [-0.22285252],\n",
       "       [ 0.89800934],\n",
       "       [ 1.45844027],\n",
       "       [-0.11777172],\n",
       "       [ 1.24827867],\n",
       "       [ 0.19747068],\n",
       "       [-0.46804105],\n",
       "       [-0.01269092],\n",
       "       [ 1.56352107],\n",
       "       [-0.22285252],\n",
       "       [-0.95841811],\n",
       "       [-0.43301412],\n",
       "       [-0.88836425],\n",
       "       [ 1.59854801],\n",
       "       [ 0.40763228],\n",
       "       [ 0.89800934],\n",
       "       [ 0.65282081],\n",
       "       [ 0.30255148],\n",
       "       [-1.55387598],\n",
       "       [ 0.12741681],\n",
       "       [ 1.07314401],\n",
       "       [ 1.17822481],\n",
       "       [-0.85333731],\n",
       "       [-0.53809491],\n",
       "       [-0.81831038],\n",
       "       [ 1.42341334],\n",
       "       [ 0.37260535],\n",
       "       [-0.01269092],\n",
       "       [-1.06349891],\n",
       "       [ 1.49346721],\n",
       "       [-0.71322958],\n",
       "       [-1.44879518],\n",
       "       [ 0.26752455],\n",
       "       [-0.71322958],\n",
       "       [-1.06349891],\n",
       "       [ 1.10817094],\n",
       "       [ 0.02233602],\n",
       "       [-1.20360664],\n",
       "       [ 0.72287468],\n",
       "       [-0.36296025],\n",
       "       [-0.22285252],\n",
       "       [-0.99344505],\n",
       "       [ 1.70362881],\n",
       "       [ 1.28330561],\n",
       "       [-1.16857971],\n",
       "       [-0.85333731],\n",
       "       [-0.64317571],\n",
       "       [ 1.52849414],\n",
       "       [ 0.61779388],\n",
       "       [-0.01269092],\n",
       "       [-0.85333731],\n",
       "       [ 1.35335947],\n",
       "       [ 0.16244375],\n",
       "       [-0.99344505],\n",
       "       [-1.44879518],\n",
       "       [-0.60814878],\n",
       "       [-0.50306798],\n",
       "       [ 0.61779388],\n",
       "       [ 1.42341334],\n",
       "       [ 0.33757841],\n",
       "       [-1.20360664],\n",
       "       [ 0.61779388],\n",
       "       [-0.25787945],\n",
       "       [-0.18782558],\n",
       "       [ 0.96806321],\n",
       "       [ 0.65282081],\n",
       "       [-0.46804105],\n",
       "       [-1.34371438],\n",
       "       [-1.37874131],\n",
       "       [ 0.54774001],\n",
       "       [ 1.70362881],\n",
       "       [ 1.70362881],\n",
       "       [-0.01269092],\n",
       "       [-0.64317571],\n",
       "       [ 0.23249761],\n",
       "       [ 0.72287468],\n",
       "       [ 1.45844027],\n",
       "       [-0.85333731],\n",
       "       [ 0.16244375],\n",
       "       [-0.36296025],\n",
       "       [ 1.45844027],\n",
       "       [-1.62392984],\n",
       "       [-0.95841811],\n",
       "       [-1.65895677],\n",
       "       [-1.65895677],\n",
       "       [ 0.54774001],\n",
       "       [ 0.75790161],\n",
       "       [-0.25787945],\n",
       "       [ 0.93303628],\n",
       "       [-0.22285252],\n",
       "       [-1.44879518],\n",
       "       [ 1.28330561],\n",
       "       [ 1.31833254],\n",
       "       [-1.62392984],\n",
       "       [ 0.30255148],\n",
       "       [ 0.44265921],\n",
       "       [ 1.38838641],\n",
       "       [ 1.59854801],\n",
       "       [-0.74825651],\n",
       "       [-1.72901064],\n",
       "       [-1.69398371],\n",
       "       [-0.01269092],\n",
       "       [-0.99344505],\n",
       "       [-0.11777172],\n",
       "       [-1.34371438],\n",
       "       [ 1.38838641],\n",
       "       [-0.43301412],\n",
       "       [-0.71322958],\n",
       "       [-0.18782558],\n",
       "       [ 1.63357494],\n",
       "       [-1.16857971],\n",
       "       [ 0.86298241],\n",
       "       [-0.50306798],\n",
       "       [-0.25787945],\n",
       "       [-1.16857971],\n",
       "       [ 0.23249761],\n",
       "       [-1.09852584],\n",
       "       [ 0.16244375],\n",
       "       [ 1.49346721],\n",
       "       [ 0.47768615],\n",
       "       [ 1.10817094],\n",
       "       [ 0.82795548],\n",
       "       [-0.04771785],\n",
       "       [-1.69398371],\n",
       "       [ 1.24827867],\n",
       "       [-1.23863358],\n",
       "       [-0.85333731],\n",
       "       [-0.15279865],\n",
       "       [ 1.70362881],\n",
       "       [ 1.66860187],\n",
       "       [ 0.30255148],\n",
       "       [ 1.52849414],\n",
       "       [ 1.35335947],\n",
       "       [ 1.38838641],\n",
       "       [-0.08274478],\n",
       "       [-1.51884904],\n",
       "       [-0.53809491],\n",
       "       [-0.67820265],\n",
       "       [-1.16857971],\n",
       "       [ 1.28330561],\n",
       "       [-0.32793332],\n",
       "       [ 0.09238988],\n",
       "       [-1.20360664],\n",
       "       [-1.58890291],\n",
       "       [ 1.59854801],\n",
       "       [ 1.73865574],\n",
       "       [-0.50306798],\n",
       "       [ 0.30255148],\n",
       "       [-1.37874131],\n",
       "       [-1.16857971],\n",
       "       [ 0.12741681],\n",
       "       [ 0.30255148],\n",
       "       [-0.25787945],\n",
       "       [-0.88836425],\n",
       "       [ 1.21325174],\n",
       "       [ 0.51271308],\n",
       "       [-1.30868744],\n",
       "       [ 0.40763228],\n",
       "       [ 0.89800934],\n",
       "       [-1.20360664],\n",
       "       [-0.22285252],\n",
       "       [-1.27366051],\n",
       "       [-0.04771785],\n",
       "       [-0.15279865],\n",
       "       [ 0.09238988],\n",
       "       [-0.53809491],\n",
       "       [-0.67820265],\n",
       "       [ 0.54774001],\n",
       "       [ 0.61779388],\n",
       "       [ 1.73865574],\n",
       "       [-0.15279865],\n",
       "       [ 1.31833254],\n",
       "       [ 0.82795548],\n",
       "       [-1.41376824],\n",
       "       [ 1.10817094],\n",
       "       [ 0.79292854],\n",
       "       [ 1.10817094],\n",
       "       [ 0.30255148],\n",
       "       [ 1.52849414],\n",
       "       [ 1.14319788],\n",
       "       [ 0.58276695],\n",
       "       [ 1.66860187]])"
      ]
     },
     "execution_count": 84,
     "metadata": {},
     "output_type": "execute_result"
    }
   ],
   "source": [
    "x"
   ]
  },
  {
   "cell_type": "markdown",
   "id": "63ba093e",
   "metadata": {},
   "source": [
    "# Train test spliting of dataset"
   ]
  },
  {
   "cell_type": "code",
   "execution_count": 103,
   "id": "5d52c407",
   "metadata": {},
   "outputs": [],
   "source": [
    "from sklearn.model_selection import train_test_split"
   ]
  },
  {
   "cell_type": "code",
   "execution_count": 104,
   "id": "1c7d8c6b",
   "metadata": {},
   "outputs": [],
   "source": [
    "x_train,x_test,y_train,y_test=train_test_split(x,y,test_size=0.20,random_state=20)"
   ]
  },
  {
   "cell_type": "code",
   "execution_count": 93,
   "id": "7bf9ddb5",
   "metadata": {},
   "outputs": [
    {
     "data": {
      "text/plain": [
       "(138,)"
      ]
     },
     "execution_count": 93,
     "metadata": {},
     "output_type": "execute_result"
    }
   ],
   "source": [
    "x_test.shape"
   ]
  },
  {
   "cell_type": "code",
   "execution_count": 106,
   "id": "82ccd4dc",
   "metadata": {},
   "outputs": [],
   "source": [
    "from sklearn.linear_model import LinearRegression"
   ]
  },
  {
   "cell_type": "code",
   "execution_count": 107,
   "id": "b95c3af7",
   "metadata": {},
   "outputs": [],
   "source": [
    "lr=LinearRegression()"
   ]
  },
  {
   "cell_type": "code",
   "execution_count": 134,
   "id": "b3302ebd",
   "metadata": {},
   "outputs": [
    {
     "data": {
      "text/plain": [
       "LinearRegression()"
      ]
     },
     "execution_count": 134,
     "metadata": {},
     "output_type": "execute_result"
    }
   ],
   "source": [
    "lr.fit(x_train,y_train)"
   ]
  },
  {
   "cell_type": "code",
   "execution_count": 135,
   "id": "f6e25388",
   "metadata": {},
   "outputs": [],
   "source": [
    "y_hat=lr.predict(x_train)"
   ]
  },
  {
   "cell_type": "markdown",
   "id": "a852fb06",
   "metadata": {},
   "source": [
    "# Ploting actual value wrt predicted value"
   ]
  },
  {
   "cell_type": "code",
   "execution_count": 136,
   "id": "fea5b1ba",
   "metadata": {},
   "outputs": [
    {
     "data": {
      "text/plain": [
       "<matplotlib.collections.PathCollection at 0x22ba8686d60>"
      ]
     },
     "execution_count": 136,
     "metadata": {},
     "output_type": "execute_result"
    },
    {
     "data": {
      "image/png": "[encoded data removed]",
      "text/plain": [
       "<Figure size 432x288 with 1 Axes>"
      ]
     },
     "metadata": {
      "needs_background": "light"
     },
     "output_type": "display_data"
    }
   ],
   "source": [
    "plt.scatter(y_train,y_hat)"
   ]
  },
  {
   "cell_type": "code",
   "execution_count": 115,
   "id": "3d12c77f",
   "metadata": {},
   "outputs": [
    {
     "name": "stderr",
     "output_type": "stream",
     "text": [
      "C:\\ProgramData\\Anaconda3\\lib\\site-packages\\seaborn\\distributions.py:2619: FutureWarning: `distplot` is a deprecated function and will be removed in a future version. Please adapt your code to use either `displot` (a figure-level function with similar flexibility) or `histplot` (an axes-level function for histograms).\n",
      "  warnings.warn(msg, FutureWarning)\n"
     ]
    },
    {
     "data": {
      "text/plain": [
       "<AxesSubplot:ylabel='Density'>"
      ]
     },
     "execution_count": 115,
     "metadata": {},
     "output_type": "execute_result"
    },
    {
     "data": {
      "image/png": "[encoded data removed]",
      "text/plain": [
       "<Figure size 432x288 with 1 Axes>"
      ]
     },
     "metadata": {
      "needs_background": "light"
     },
     "output_type": "display_data"
    }
   ],
   "source": [
    "sns.distplot(y_train-y_hat)"
   ]
  },
  {
   "cell_type": "code",
   "execution_count": 116,
   "id": "257ad44e",
   "metadata": {},
   "outputs": [
    {
     "data": {
      "text/plain": [
       "0.9901776741048413"
      ]
     },
     "execution_count": 116,
     "metadata": {},
     "output_type": "execute_result"
    }
   ],
   "source": [
    "lr.score(x_train,y_train)"
   ]
  },
  {
   "cell_type": "code",
   "execution_count": 122,
   "id": "cd5d1646",
   "metadata": {},
   "outputs": [
    {
     "data": {
      "text/plain": [
       "0.9914896148588552"
      ]
     },
     "execution_count": 122,
     "metadata": {},
     "output_type": "execute_result"
    }
   ],
   "source": [
    "lr.score(x_test,y_test)"
   ]
  },
  {
   "cell_type": "code",
   "execution_count": 128,
   "id": "c573bbc8",
   "metadata": {},
   "outputs": [],
   "source": [
    "coef=lr.coef_\n",
    "intercept=lr.intercept_\n",
    "ya=coef*x+intercept"
   ]
  },
  {
   "cell_type": "code",
   "execution_count": 133,
   "id": "29ccbd8e",
   "metadata": {},
   "outputs": [
    {
     "data": {
      "text/plain": [
       "690"
      ]
     },
     "execution_count": 133,
     "metadata": {},
     "output_type": "execute_result"
    }
   ],
   "source": [
    "len(ya)"
   ]
  },
  {
   "cell_type": "markdown",
   "id": "a84b381b",
   "metadata": {},
   "source": [
    "# Plot of a best fit line along with Scattered data"
   ]
  },
  {
   "cell_type": "code",
   "execution_count": 132,
   "id": "36be0677",
   "metadata": {},
   "outputs": [
    {
     "data": {
      "text/plain": [
       "[<matplotlib.lines.Line2D at 0x22ba8626460>]"
      ]
     },
     "execution_count": 132,
     "metadata": {},
     "output_type": "execute_result"
    },
    {
     "data": {
      "image/png": "[encoded data removed]",
      "text/plain": [
       "<Figure size 432x288 with 1 Axes>"
      ]
     },
     "metadata": {
      "needs_background": "light"
     },
     "output_type": "display_data"
    }
   ],
   "source": [
    "plt.plot(x, y, 'o')\n",
    "plt.plot(x,ya)"
   ]
  },
  {
   "cell_type": "code",
   "execution_count": null,
   "id": "182aba97",
   "metadata": {},
   "outputs": [],
   "source": []
  }
 ],
 "metadata": {
  "kernelspec": {
   "display_name": "Python 3 (ipykernel)",
   "language": "python",
   "name": "python3"
  },
  "language_info": {
   "codemirror_mode": {
    "name": "ipython",
    "version": 3
   },
   "file_extension": ".py",
   "mimetype": "text/x-python",
   "name": "python",
   "nbconvert_exporter": "python",
   "pygments_lexer": "ipython3",
   "version": "3.9.7"
  }
 },
 "nbformat": 4,
 "nbformat_minor": 5
}
